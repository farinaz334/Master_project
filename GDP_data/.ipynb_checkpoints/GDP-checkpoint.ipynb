{
 "cells": [
  {
   "cell_type": "code",
   "execution_count": 1,
   "id": "41cc98bc-d285-40ef-8ff5-2b6dfa164e56",
   "metadata": {},
   "outputs": [],
   "source": [
    "import pandas as pd\n",
    "import numpy as np"
   ]
  },
  {
   "cell_type": "code",
   "execution_count": 2,
   "id": "800181d2-0a9b-4668-add0-2524c7c0fa08",
   "metadata": {},
   "outputs": [
    {
     "name": "stdout",
     "output_type": "stream",
     "text": [
      "['Information', 'Contents', 'Notes', 'Table 1', 'Table 2', 'Table 3', 'Table 4', 'Table 5', 'Table 6', 'Table 7', 'Table 8', 'Table 9', 'Table 10', 'Table 11', 'Table 12', 'Table 13']\n"
     ]
    }
   ],
   "source": [
    "#reading file\n",
    "excel_file= pd.ExcelFile(\"./row_GDPdata/gdps.xlsx\")\n",
    "sheet_names=excel_file.sheet_names\n",
    "print(sheet_names)"
   ]
  },
  {
   "cell_type": "code",
   "execution_count": 3,
   "id": "2c24de5c-3dde-4de9-87ca-914f0f6535f9",
   "metadata": {},
   "outputs": [],
   "source": [
    "def str_to_int(s, defult = 0):\n",
    "    try:\n",
    "        return int(s)\n",
    "    except ValueError:\n",
    "        return defult\n",
    "\n"
   ]
  },
  {
   "cell_type": "code",
   "execution_count": 4,
   "id": "b3b69b9d-bf1a-4bee-85a4-c87b187fc59c",
   "metadata": {},
   "outputs": [],
   "source": [
    "years = [2017,2018,2019,2020,2021,2022]\n",
    "\n"
   ]
  },
  {
   "cell_type": "code",
   "execution_count": 89,
   "id": "03fb3202-629e-47a1-a772-8d4bd6029a77",
   "metadata": {},
   "outputs": [
    {
     "data": {
      "text/plain": [
       "array(['0', '1', '2', '3', '4', '5', '6', '7', '8', '9', '10', '11', '12',\n",
       "       '13', '14', '15', '16', '17', '18', '19', '20', '21', '22', '23',\n",
       "       '24', '25', '26', '27'], dtype='<U11')"
      ]
     },
     "execution_count": 89,
     "metadata": {},
     "output_type": "execute_result"
    }
   ],
   "source": []
  },
  {
   "cell_type": "code",
   "execution_count": 117,
   "id": "4b10009d-628c-4de8-ba9e-da0b76925425",
   "metadata": {},
   "outputs": [],
   "source": [
    "def New_table (sheet_name, Features ,file_name):\n",
    "    Table_1=pd.read_excel(excel_file,sheet_name=sheet_name)\n",
    "    print(Table_1.columns)\n",
    "    clm = Table_1.columns\n",
    "    Table_1.columns = np.arange(len(Table_1.columns)).astype(str)\n",
    "    Table_1 = Table_1[Table_1['0'] == 'ITL1']\n",
    "    \n",
    "    print(len(Table_1),len(Table_1.columns))\n",
    "    \n",
    "    # to save normalised data\n",
    "    empty_df = pd.DataFrame(columns=Features)\n",
    "    #year_columns = [col for col in Table_1.columns[3:] if col.isdigit()] \n",
    "\n",
    "     \n",
    "        \n",
    "    for j in range(1,len(Table_1),1):\n",
    "        i = 0\n",
    "        for year in years:\n",
    "            offset = 0\n",
    "            #while ((offset < len(Table_1.columns)) and (str_to_int(Table_1.iloc[0,offset]) != year)):\n",
    "            #    offset= offset +1\n",
    "            #    print(offset, str_to_int(Table_1.iloc[0,offset]))\n",
    "            while ((offset < len(Table_1.columns)) and (str_to_int(clm[offset]) != year)):\n",
    "                offset= offset +1\n",
    "                print(clm[offset])\n",
    "            #print(offset, ,Table_1.iloc[j,2], Table_1.iloc[j,offset], str_to_int(Table_1.iloc[0,offset]))\n",
    "            if  offset == len(Table_1.columns) :\n",
    "                year = 0  \n",
    "            #print(offset)\n",
    "            new_row = {Features[0]: Table_1.iloc[j,2], \n",
    "                       Features[1] : int(year),\n",
    "                       Features[2] : Table_1.iloc[j,offset]} \n",
    "            i=i+1          \n",
    "            empty_df =pd.concat([empty_df, pd.DataFrame([new_row])], ignore_index=True)\n",
    "    #empty_df = empty_df[empty_df[\"Region\"].isin(Region_list)]\n",
    "    empty_df.to_csv (file_name)\n",
    " \n"
   ]
  },
  {
   "cell_type": "code",
   "execution_count": 118,
   "id": "79f27bf2-9372-431f-aaea-6f1ca39774b3",
   "metadata": {},
   "outputs": [],
   "source": [
    "List_sheet_name = ['Table 1', 'Table 2', 'Table 3', 'Table 4', 'Table 5', 'Table 6', 'Table 7', 'Table 8', 'Table 9', 'Table 10', 'Table 11', 'Table 12', 'Table 13']\n",
    "\n",
    "'''\n",
    "List_Features = [\n",
    "    [\"Region\", \"Year\", \"Gross value added (Balanced) at current basic prices\"],\n",
    "    [\"Region\", \"Year\", \"Value Added Tax (VAT) on products\"],\n",
    "    [\"Region\", \"Year\", \"Other taxes on products\"],\n",
    "    [\"Region\", \"Year\", \"Subsidies on products\"],\n",
    "    [\"Region\", \"Year\", \"Gross domestic product (GDP) at current market prices\"],\n",
    "    [\"Region\", \"Year\", \"Total resident population numbers\"],\n",
    "    [\"Region\", \"Year\", \"Gross domestic product (GDP) per head at current market prices\"],\n",
    "    [\"Region\", \"Year\", \"Whole economy gross value added (GVA) implied deflators\"],\n",
    "    [\"Region\", \"Year\", \"Gross domestic product (GDP) chained volume measures (CVM) index, 2019 equals 100\"],\n",
    "    [\"Region\", \"Year\", \"Gross domestic product (GDP) chained volume measures (CVM) in 2019 money value\"],\n",
    "    [\"Region\", \"Year\", \"Gross domestic product (GDP) chained volume measures (CVM) in 2019 money value, per head\"],\n",
    "    [\"Region\", \"Year\", \"Gross domestic product (GDP) chained volume measures (CVM) annual growth rates, percentage\"],\n",
    "    [\"Region\", \"Year\", \"Gross domestic product (GDP) chained volume measures (CVM) per head annual growth rates, percentage\"]\n",
    "]\n",
    "'''\n",
    "List_Features = [\n",
    "\n",
    "    [\"Region\", \"Year\", \"Gross domestic product (GDP) chained volume measures (CVM) per head annual growth rates, percentage\"]\n",
    "]\n",
    "\n",
    " \n",
    "'''\n",
    "list_file_name = [\n",
    "    \"Gross value added (Balanced) at current basic prices.csv\",\n",
    "    \"Value Added Tax (VAT) on products.csv\",\n",
    "    \"Other taxes on products.csv\",\n",
    "    \"Subsidies on products.csv\",\n",
    "    \"Gross domestic product (GDP) at current market prices.csv\",\n",
    "    \"Total resident population numbers.csv\",\n",
    "    \"Gross domestic product (GDP) per head at current market prices.csv\",\n",
    "    \"Whole economy gross value added (GVA) implied deflators.csv\",\n",
    "    \"Gross domestic product (GDP) chained volume measures (CVM) index, 2019 equals 100.csv\",\n",
    "    \"Gross domestic product (GDP) chained volume measures (CVM) in 2019 money value.csv\",\n",
    "    \"Gross domestic product (GDP) chained volume measures (CVM) in 2019 money value, per head.csv\",\n",
    "    \"Gross domestic product (GDP) chained volume measures (CVM) annual growth rates, percentage.csv\",\n",
    "    \"Gross domestic product (GDP) chained volume measures (CVM) per head annual growth rates, percentage.csv\"\n",
    "]\n",
    "'''\n",
    "list_file_name = [\n",
    "\n",
    "    \"GDP_CVM_annual_growth_rates_.csv\"\n",
    "]\n",
    "\n",
    "Region_list= [\n",
    "    \"East Midlands\",\n",
    "    \"East of England\",\n",
    "    \"London\",\n",
    "    \"North East\",\n",
    "    \"North West\",\n",
    "    \"Northern Ireland\",\n",
    "    \"Scotland\",\n",
    "    \"South East\",\n",
    "    \"South West\",\n",
    "    \"Wales\",\n",
    "    \"West Midlands\",\n",
    "    \"Yorkshire and the Humber\"\n",
    "] \n",
    "\n"
   ]
  },
  {
   "cell_type": "code",
   "execution_count": 119,
   "id": "b681aa0e-de1d-424e-8fc3-38e3e4a1514c",
   "metadata": {},
   "outputs": [
    {
     "name": "stdout",
     "output_type": "stream",
     "text": [
      "Table 1 ['Region', 'Year', 'Gross domestic product (GDP) chained volume measures (CVM) per head annual growth rates, percentage'] GDP_CVM_annual_growth_rates_.csv\n",
      "Index(['Table 13: Gross domestic product (GDP) chained volume measures (CVM) per head annual growth rates, percentage [notes 1, 5, 6]',\n",
      "       'Unnamed: 1', 'Unnamed: 2', 'Unnamed: 3', 'Unnamed: 4', 'Unnamed: 5',\n",
      "       'Unnamed: 6', 'Unnamed: 7', 'Unnamed: 8', 'Unnamed: 9', 'Unnamed: 10',\n",
      "       'Unnamed: 11', 'Unnamed: 12', 'Unnamed: 13', 'Unnamed: 14',\n",
      "       'Unnamed: 15', 'Unnamed: 16', 'Unnamed: 17', 'Unnamed: 18',\n",
      "       'Unnamed: 19', 'Unnamed: 20', 'Unnamed: 21', 'Unnamed: 22',\n",
      "       'Unnamed: 23', 'Unnamed: 24', 'Unnamed: 25', 'Unnamed: 26'],\n",
      "      dtype='object')\n",
      "12 27\n",
      "Unnamed: 1\n",
      "Unnamed: 2\n",
      "Unnamed: 3\n",
      "Unnamed: 4\n",
      "Unnamed: 5\n",
      "Unnamed: 6\n",
      "Unnamed: 7\n",
      "Unnamed: 8\n",
      "Unnamed: 9\n",
      "Unnamed: 10\n",
      "Unnamed: 11\n",
      "Unnamed: 12\n",
      "Unnamed: 13\n",
      "Unnamed: 14\n",
      "Unnamed: 15\n",
      "Unnamed: 16\n",
      "Unnamed: 17\n",
      "Unnamed: 18\n",
      "Unnamed: 19\n",
      "Unnamed: 20\n",
      "Unnamed: 21\n",
      "Unnamed: 22\n",
      "Unnamed: 23\n",
      "Unnamed: 24\n",
      "Unnamed: 25\n",
      "Unnamed: 26\n"
     ]
    },
    {
     "ename": "IndexError",
     "evalue": "index 27 is out of bounds for axis 0 with size 27",
     "output_type": "error",
     "traceback": [
      "\u001b[1;31m---------------------------------------------------------------------------\u001b[0m",
      "\u001b[1;31mIndexError\u001b[0m                                Traceback (most recent call last)",
      "Cell \u001b[1;32mIn[119], line 4\u001b[0m\n\u001b[0;32m      2\u001b[0m \u001b[38;5;28mprint\u001b[39m(sheet_name, features, file_name)\n\u001b[0;32m      3\u001b[0m \u001b[38;5;66;03m#New_table(sheet_name, features, file_name)\u001b[39;00m\n\u001b[1;32m----> 4\u001b[0m New_table(\u001b[38;5;124m'\u001b[39m\u001b[38;5;124mTable 13\u001b[39m\u001b[38;5;124m'\u001b[39m, features, file_name)\n",
      "Cell \u001b[1;32mIn[117], line 25\u001b[0m, in \u001b[0;36mNew_table\u001b[1;34m(sheet_name, Features, file_name)\u001b[0m\n\u001b[0;32m     23\u001b[0m \u001b[38;5;28;01mwhile\u001b[39;00m ((offset \u001b[38;5;241m<\u001b[39m \u001b[38;5;28mlen\u001b[39m(Table_1\u001b[38;5;241m.\u001b[39mcolumns)) \u001b[38;5;129;01mand\u001b[39;00m (str_to_int(clm[offset]) \u001b[38;5;241m!=\u001b[39m year)):\n\u001b[0;32m     24\u001b[0m     offset\u001b[38;5;241m=\u001b[39m offset \u001b[38;5;241m+\u001b[39m\u001b[38;5;241m1\u001b[39m\n\u001b[1;32m---> 25\u001b[0m     \u001b[38;5;28mprint\u001b[39m(clm[offset])\n\u001b[0;32m     26\u001b[0m \u001b[38;5;66;03m#print(offset, ,Table_1.iloc[j,2], Table_1.iloc[j,offset], str_to_int(Table_1.iloc[0,offset]))\u001b[39;00m\n\u001b[0;32m     27\u001b[0m \u001b[38;5;28;01mif\u001b[39;00m  offset \u001b[38;5;241m==\u001b[39m \u001b[38;5;28mlen\u001b[39m(Table_1\u001b[38;5;241m.\u001b[39mcolumns) :\n",
      "File \u001b[1;32mE:\\anaconda3\\Lib\\site-packages\\pandas\\core\\indexes\\base.py:5366\u001b[0m, in \u001b[0;36mIndex.__getitem__\u001b[1;34m(self, key)\u001b[0m\n\u001b[0;32m   5363\u001b[0m \u001b[38;5;28;01mif\u001b[39;00m is_integer(key) \u001b[38;5;129;01mor\u001b[39;00m is_float(key):\n\u001b[0;32m   5364\u001b[0m     \u001b[38;5;66;03m# GH#44051 exclude bool, which would return a 2d ndarray\u001b[39;00m\n\u001b[0;32m   5365\u001b[0m     key \u001b[38;5;241m=\u001b[39m com\u001b[38;5;241m.\u001b[39mcast_scalar_indexer(key)\n\u001b[1;32m-> 5366\u001b[0m     \u001b[38;5;28;01mreturn\u001b[39;00m getitem(key)\n\u001b[0;32m   5368\u001b[0m \u001b[38;5;28;01mif\u001b[39;00m \u001b[38;5;28misinstance\u001b[39m(key, \u001b[38;5;28mslice\u001b[39m):\n\u001b[0;32m   5369\u001b[0m     \u001b[38;5;66;03m# This case is separated from the conditional above to avoid\u001b[39;00m\n\u001b[0;32m   5370\u001b[0m     \u001b[38;5;66;03m# pessimization com.is_bool_indexer and ndim checks.\u001b[39;00m\n\u001b[0;32m   5371\u001b[0m     \u001b[38;5;28;01mreturn\u001b[39;00m \u001b[38;5;28mself\u001b[39m\u001b[38;5;241m.\u001b[39m_getitem_slice(key)\n",
      "\u001b[1;31mIndexError\u001b[0m: index 27 is out of bounds for axis 0 with size 27"
     ]
    }
   ],
   "source": [
    "for sheet_name, features, file_name in zip(List_sheet_name, List_Features, list_file_name):\n",
    "    print(sheet_name, features, file_name)\n",
    "    #New_table(sheet_name, features, file_name)\n",
    "    New_table('Table 13', features, file_name)"
   ]
  },
  {
   "cell_type": "code",
   "execution_count": null,
   "id": "dc39c8c3-d411-423d-81a0-26218a9de2d3",
   "metadata": {},
   "outputs": [],
   "source": [
    "offset,Table_1.iloc[j,2], Table_1.iloc[j,offset], str_to_int(Table_1.iloc[0,offset]))"
   ]
  },
  {
   "cell_type": "code",
   "execution_count": 7,
   "id": "f8cdbcdf-9552-401e-ab56-287320ed6e8d",
   "metadata": {},
   "outputs": [
    {
     "data": {
      "text/html": [
       "<div>\n",
       "<style scoped>\n",
       "    .dataframe tbody tr th:only-of-type {\n",
       "        vertical-align: middle;\n",
       "    }\n",
       "\n",
       "    .dataframe tbody tr th {\n",
       "        vertical-align: top;\n",
       "    }\n",
       "\n",
       "    .dataframe thead th {\n",
       "        text-align: right;\n",
       "    }\n",
       "</style>\n",
       "<table border=\"1\" class=\"dataframe\">\n",
       "  <thead>\n",
       "    <tr style=\"text-align: right;\">\n",
       "      <th></th>\n",
       "      <th>Region</th>\n",
       "      <th>Year</th>\n",
       "      <th>Other taxes on products</th>\n",
       "    </tr>\n",
       "  </thead>\n",
       "  <tbody>\n",
       "    <tr>\n",
       "      <th>12</th>\n",
       "      <td>North East</td>\n",
       "      <td>2017</td>\n",
       "      <td>3208</td>\n",
       "    </tr>\n",
       "    <tr>\n",
       "      <th>13</th>\n",
       "      <td>North East</td>\n",
       "      <td>2018</td>\n",
       "      <td>3321</td>\n",
       "    </tr>\n",
       "    <tr>\n",
       "      <th>14</th>\n",
       "      <td>North East</td>\n",
       "      <td>2019</td>\n",
       "      <td>3395</td>\n",
       "    </tr>\n",
       "    <tr>\n",
       "      <th>15</th>\n",
       "      <td>North East</td>\n",
       "      <td>2020</td>\n",
       "      <td>2920</td>\n",
       "    </tr>\n",
       "    <tr>\n",
       "      <th>16</th>\n",
       "      <td>North East</td>\n",
       "      <td>2021</td>\n",
       "      <td>3009</td>\n",
       "    </tr>\n",
       "  </tbody>\n",
       "</table>\n",
       "</div>"
      ],
      "text/plain": [
       "        Region  Year  Other taxes on products\n",
       "12  North East  2017                     3208\n",
       "13  North East  2018                     3321\n",
       "14  North East  2019                     3395\n",
       "15  North East  2020                     2920\n",
       "16  North East  2021                     3009"
      ]
     },
     "execution_count": 7,
     "metadata": {},
     "output_type": "execute_result"
    }
   ],
   "source": [
    "dataframes = []\n",
    "\n",
    "for file in list_file_name:\n",
    "     df=pd.read_csv(file, index_col=0) \n",
    "    \n",
    "     #df=pd.read_csv(file) \n",
    "     dataframes.append(df) \n",
    "    \n",
    "dataframes[2].head()\n",
    "\n"
   ]
  },
  {
   "cell_type": "code",
   "execution_count": 8,
   "id": "98d43ed7-64d9-4129-8e86-2255afabaff8",
   "metadata": {},
   "outputs": [],
   "source": [
    "dataframes[0]['Year'] = dataframes[0]['Year'].astype(int)\n",
    "dataframes[0]['Region'] = dataframes[0]['Region'].astype('category')\n",
    "a = dataframes[0]\n",
    "for i in range(1,len(dataframes),1):\n",
    "    dataframes[i]['Year'] = dataframes[i]['Year'].astype(int)\n",
    "    dataframes[i]['Region'] = dataframes[i]['Region'].astype('category')\n",
    "    a = pd.merge(a,dataframes[i], how = 'left', on=['Region','Year'])\n",
    "\n"
   ]
  },
  {
   "cell_type": "code",
   "execution_count": 9,
   "id": "c889c70b-6def-4647-b0c8-ca1117187f2d",
   "metadata": {},
   "outputs": [],
   "source": [
    "a\n",
    "a.to_csv('Totalgdp.csv')"
   ]
  },
  {
   "cell_type": "code",
   "execution_count": 10,
   "id": "3492128f-8c78-4862-8e91-a2e5ba91b702",
   "metadata": {},
   "outputs": [
    {
     "data": {
      "text/plain": [
       "(\"suffixes=('_x'+str(i),\", \"'_y'+str(i))\")"
      ]
     },
     "execution_count": 10,
     "metadata": {},
     "output_type": "execute_result"
    }
   ],
   "source": [
    ", suffixes=('_x'+str(i), '_y'+str(i))"
   ]
  },
  {
   "cell_type": "code",
   "execution_count": null,
   "id": "ada1da53-aaf6-4edd-aa2c-a97881b305de",
   "metadata": {},
   "outputs": [],
   "source": []
  },
  {
   "cell_type": "code",
   "execution_count": null,
   "id": "19f13917-0a8c-4f4e-9d4d-c4a1ef3c6f85",
   "metadata": {},
   "outputs": [],
   "source": []
  }
 ],
 "metadata": {
  "kernelspec": {
   "display_name": "Python 3 (ipykernel)",
   "language": "python",
   "name": "python3"
  },
  "language_info": {
   "codemirror_mode": {
    "name": "ipython",
    "version": 3
   },
   "file_extension": ".py",
   "mimetype": "text/x-python",
   "name": "python",
   "nbconvert_exporter": "python",
   "pygments_lexer": "ipython3",
   "version": "3.11.7"
  }
 },
 "nbformat": 4,
 "nbformat_minor": 5
}
