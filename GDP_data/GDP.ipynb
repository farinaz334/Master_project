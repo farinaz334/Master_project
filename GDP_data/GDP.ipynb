{
 "cells": [
  {
   "cell_type": "code",
   "execution_count": 1,
   "id": "41cc98bc-d285-40ef-8ff5-2b6dfa164e56",
   "metadata": {},
   "outputs": [],
   "source": [
    "import pandas as pd\n",
    "import numpy as np"
   ]
  },
  {
   "cell_type": "code",
   "execution_count": 2,
   "id": "800181d2-0a9b-4668-add0-2524c7c0fa08",
   "metadata": {},
   "outputs": [
    {
     "name": "stdout",
     "output_type": "stream",
     "text": [
      "['Information', 'Contents', 'Notes', 'Table 1', 'Table 2', 'Table 3', 'Table 4', 'Table 5', 'Table 6', 'Table 7', 'Table 8', 'Table 9', 'Table 10', 'Table 11', 'Table 12', 'Table 13']\n"
     ]
    }
   ],
   "source": [
    "#reading file\n",
    "excel_file= pd.ExcelFile(\"./row_GDPdata/gdps.xlsx\")\n",
    "sheet_names=excel_file.sheet_names\n",
    "print(sheet_names)"
   ]
  },
  {
   "cell_type": "code",
   "execution_count": 3,
   "id": "2c24de5c-3dde-4de9-87ca-914f0f6535f9",
   "metadata": {},
   "outputs": [],
   "source": [
    "def str_to_int(s, defult = 0):\n",
    "    try:\n",
    "        return int(s)\n",
    "    except ValueError:\n",
    "        return defult\n",
    "\n"
   ]
  },
  {
   "cell_type": "code",
   "execution_count": 53,
   "id": "b3b69b9d-bf1a-4bee-85a4-c87b187fc59c",
   "metadata": {},
   "outputs": [],
   "source": [
    "years = [2000,2001,2002,2003,2004,2005,2006,2007,2008,2009,2010,2011,2012,2013,2014,2015,2016,2017,2018,2019,2020,2021,2022]\n",
    "\n"
   ]
  },
  {
   "cell_type": "code",
   "execution_count": 54,
   "id": "79f27bf2-9372-431f-aaea-6f1ca39774b3",
   "metadata": {},
   "outputs": [],
   "source": [
    "List_sheet_name = ['Table 1', 'Table 2', 'Table 3', 'Table 4', 'Table 5', 'Table 6', 'Table 7', 'Table 8', 'Table 9', 'Table 10', 'Table 11', 'Table 12', 'Table 13']\n",
    "\n",
    "#List_sheet_name = ['Table 13']\n",
    "\n",
    "\n",
    "\n",
    "List_Features = [\n",
    "    [\"Region\", \"Year\", \"Gross value added (Balanced) at current basic prices\"],\n",
    "    [\"Region\", \"Year\", \"Value Added Tax (VAT) on products\"],\n",
    "    [\"Region\", \"Year\", \"Other taxes on products\"],\n",
    "    [\"Region\", \"Year\", \"Subsidies on products\"],\n",
    "    [\"Region\", \"Year\", \"Gross domestic product (GDP) at current market prices\"],\n",
    "    [\"Region\", \"Year\", \"Total resident population numbers\"],\n",
    "    [\"Region\", \"Year\", \"Gross domestic product (GDP) per head at current market prices\"],\n",
    "    [\"Region\", \"Year\", \"Whole economy gross value added (GVA) implied deflators\"],\n",
    "    [\"Region\", \"Year\", \"Gross domestic product (GDP) chained volume measures (CVM) index, 2019 equals 100\"],\n",
    "    [\"Region\", \"Year\", \"Gross domestic product (GDP) chained volume measures (CVM) in 2019 money value\"],\n",
    "    [\"Region\", \"Year\", \"Gross domestic product (GDP) chained volume measures (CVM) in 2019 money value, per head\"],\n",
    "    [\"Region\", \"Year\", \"Gross domestic product (GDP) chained volume measures (CVM) annual growth rates, percentage\"],\n",
    "    [\"Region\", \"Year\", \"Gross domestic product (GDP) chained volume measures (CVM) per head annual growth rates, percentage\"]\n",
    "]\n",
    "'''\n",
    "List_Features = [\n",
    "\n",
    "    [\"Region\", \"Year\", \"Gross domestic product (GDP) chained volume measures (CVM) per head annual growth rates, percentage\"]\n",
    "]\n",
    "\n",
    " \n",
    "'''\n",
    "list_file_name = [\n",
    "    \"Gross value added (Balanced) at current basic prices.csv\",\n",
    "    \"Value Added Tax (VAT) on products.csv\",\n",
    "    \"Other taxes on products.csv\",\n",
    "    \"Subsidies on products.csv\",\n",
    "    \"Gross domestic product (GDP) at current market prices.csv\",\n",
    "    \"Total resident population numbers.csv\",\n",
    "    \"Gross domestic product (GDP) per head at current market prices.csv\",\n",
    "    \"Whole economy gross value added (GVA) implied deflators.csv\",\n",
    "    \"Gross domestic product (GDP) chained volume measures (CVM) index, 2019 equals 100.csv\",\n",
    "    \"Gross domestic product (GDP) chained volume measures (CVM) in 2019 money value.csv\",\n",
    "    \"Gross domestic product (GDP) chained volume measures (CVM) in 2019 money value, per head.csv\",\n",
    "    \"Gross domestic product (GDP) chained volume measures (CVM) annual growth rates, percentage.csv\",\n",
    "    \"Gross domestic product (GDP) chained volume measures (CVM) per head annual growth rates, percentage.csv\"\n",
    "]\n",
    "'''\n",
    "list_file_name = [\n",
    "\n",
    "    \"GDP_CVM_annual_growth_rates_.csv\"\n",
    "]\n",
    "'''\n",
    "Region_list= [\n",
    "    \"East Midlands\",\n",
    "    \"East of England\",\n",
    "    \"London\",\n",
    "    \"North East\",\n",
    "    \"North West\",\n",
    "    \"Northern Ireland\",\n",
    "    \"Scotland\",\n",
    "    \"South East\",\n",
    "    \"South West\",\n",
    "    \"Wales\",\n",
    "    \"West Midlands\",\n",
    "    \"Yorkshire and the Humber\"\n",
    "] \n",
    "\n"
   ]
  },
  {
   "cell_type": "code",
   "execution_count": 55,
   "id": "4b10009d-628c-4de8-ba9e-da0b76925425",
   "metadata": {},
   "outputs": [],
   "source": [
    "def New_table (sheet_name, Features ,file_name):\n",
    "    Table_1=pd.read_excel(excel_file,sheet_name=sheet_name)\n",
    "    #print(Table_1.columns)\n",
    "    table_copy = Table_1.copy(deep=True)\n",
    "    Table_1.columns = np.arange(len(Table_1.columns)).astype(str)\n",
    "    Table_1 = Table_1[Table_1['0'] == 'ITL1']\n",
    "\n",
    "    #print('row ', len(Table_1),'col ',len(Table_1.columns))\n",
    "    \n",
    "    # to save normalised data\n",
    "    empty_df = pd.DataFrame(columns=Features)\n",
    "    #year_columns = [col for col in Table_1.columns[3:] if col.isdigit()] \n",
    "    \n",
    "     \n",
    "        \n",
    "    for j in range(0,len(Table_1),1):\n",
    "        i = 0\n",
    "        for year in years:\n",
    "            offset = 0\n",
    "            while ((offset < len(table_copy.columns)) and (str_to_int(table_copy.iloc[0,offset]) != year)):\n",
    "                #print('offset', offset,'value', (table_copy.iloc[0,offset]))\n",
    "                offset= offset +1\n",
    "                \n",
    " \n",
    "     \n",
    "            #print(offset, ,Table_1.iloc[j,2], Table_1.iloc[j,offset], str_to_int(Table_1.iloc[0,offset]))\n",
    "            if  offset == len(Table_1.columns) :\n",
    "                year = 0  \n",
    "            #print(offset)\n",
    "            new_row = {Features[0]: Table_1.iloc[j,2], \n",
    "                       Features[1] : int(year),\n",
    "                       Features[2] : Table_1.iloc[j,offset]} \n",
    "            i=i+1          \n",
    "            empty_df =pd.concat([empty_df, pd.DataFrame([new_row])], ignore_index=True)\n",
    "    #empty_df = empty_df[empty_df[\"Region\"].isin(Region_list)]\n",
    "    empty_df.to_csv (file_name)\n",
    "    \n",
    " \n"
   ]
  },
  {
   "cell_type": "code",
   "execution_count": 56,
   "id": "b681aa0e-de1d-424e-8fc3-38e3e4a1514c",
   "metadata": {},
   "outputs": [
    {
     "name": "stdout",
     "output_type": "stream",
     "text": [
      "Table 1 ['Region', 'Year', 'Gross value added (Balanced) at current basic prices'] Gross value added (Balanced) at current basic prices.csv\n",
      "Table 2 ['Region', 'Year', 'Value Added Tax (VAT) on products'] Value Added Tax (VAT) on products.csv\n",
      "Table 3 ['Region', 'Year', 'Other taxes on products'] Other taxes on products.csv\n",
      "Table 4 ['Region', 'Year', 'Subsidies on products'] Subsidies on products.csv\n",
      "Table 5 ['Region', 'Year', 'Gross domestic product (GDP) at current market prices'] Gross domestic product (GDP) at current market prices.csv\n",
      "Table 6 ['Region', 'Year', 'Total resident population numbers'] Total resident population numbers.csv\n",
      "Table 7 ['Region', 'Year', 'Gross domestic product (GDP) per head at current market prices'] Gross domestic product (GDP) per head at current market prices.csv\n",
      "Table 8 ['Region', 'Year', 'Whole economy gross value added (GVA) implied deflators'] Whole economy gross value added (GVA) implied deflators.csv\n"
     ]
    },
    {
     "name": "stderr",
     "output_type": "stream",
     "text": [
      "C:\\Users\\NovinRayan\\AppData\\Local\\Temp\\ipykernel_13444\\1062433235.py:34: FutureWarning: The behavior of DataFrame concatenation with empty or all-NA entries is deprecated. In a future version, this will no longer exclude empty or all-NA columns when determining the result dtypes. To retain the old behavior, exclude the relevant entries before the concat operation.\n",
      "  empty_df =pd.concat([empty_df, pd.DataFrame([new_row])], ignore_index=True)\n"
     ]
    },
    {
     "name": "stdout",
     "output_type": "stream",
     "text": [
      "Table 9 ['Region', 'Year', 'Gross domestic product (GDP) chained volume measures (CVM) index, 2019 equals 100'] Gross domestic product (GDP) chained volume measures (CVM) index, 2019 equals 100.csv\n"
     ]
    },
    {
     "name": "stderr",
     "output_type": "stream",
     "text": [
      "C:\\Users\\NovinRayan\\AppData\\Local\\Temp\\ipykernel_13444\\1062433235.py:34: FutureWarning: The behavior of DataFrame concatenation with empty or all-NA entries is deprecated. In a future version, this will no longer exclude empty or all-NA columns when determining the result dtypes. To retain the old behavior, exclude the relevant entries before the concat operation.\n",
      "  empty_df =pd.concat([empty_df, pd.DataFrame([new_row])], ignore_index=True)\n"
     ]
    },
    {
     "name": "stdout",
     "output_type": "stream",
     "text": [
      "Table 10 ['Region', 'Year', 'Gross domestic product (GDP) chained volume measures (CVM) in 2019 money value'] Gross domestic product (GDP) chained volume measures (CVM) in 2019 money value.csv\n",
      "Table 11 ['Region', 'Year', 'Gross domestic product (GDP) chained volume measures (CVM) in 2019 money value, per head'] Gross domestic product (GDP) chained volume measures (CVM) in 2019 money value, per head.csv\n",
      "Table 12 ['Region', 'Year', 'Gross domestic product (GDP) chained volume measures (CVM) annual growth rates, percentage'] Gross domestic product (GDP) chained volume measures (CVM) annual growth rates, percentage.csv\n"
     ]
    },
    {
     "name": "stderr",
     "output_type": "stream",
     "text": [
      "C:\\Users\\NovinRayan\\AppData\\Local\\Temp\\ipykernel_13444\\1062433235.py:34: FutureWarning: The behavior of DataFrame concatenation with empty or all-NA entries is deprecated. In a future version, this will no longer exclude empty or all-NA columns when determining the result dtypes. To retain the old behavior, exclude the relevant entries before the concat operation.\n",
      "  empty_df =pd.concat([empty_df, pd.DataFrame([new_row])], ignore_index=True)\n"
     ]
    },
    {
     "name": "stdout",
     "output_type": "stream",
     "text": [
      "Table 13 ['Region', 'Year', 'Gross domestic product (GDP) chained volume measures (CVM) per head annual growth rates, percentage'] Gross domestic product (GDP) chained volume measures (CVM) per head annual growth rates, percentage.csv\n"
     ]
    }
   ],
   "source": [
    "for sheet_name, features, file_name in zip(List_sheet_name, List_Features, list_file_name):\n",
    "    print(sheet_name, features, file_name)\n",
    "    #New_table(sheet_name, features, file_name)\n",
    "    New_table(sheet_name, features, file_name)\n",
    " "
   ]
  },
  {
   "cell_type": "code",
   "execution_count": 58,
   "id": "f8cdbcdf-9552-401e-ab56-287320ed6e8d",
   "metadata": {},
   "outputs": [
    {
     "data": {
      "text/html": [
       "<div>\n",
       "<style scoped>\n",
       "    .dataframe tbody tr th:only-of-type {\n",
       "        vertical-align: middle;\n",
       "    }\n",
       "\n",
       "    .dataframe tbody tr th {\n",
       "        vertical-align: top;\n",
       "    }\n",
       "\n",
       "    .dataframe thead th {\n",
       "        text-align: right;\n",
       "    }\n",
       "</style>\n",
       "<table border=\"1\" class=\"dataframe\">\n",
       "  <thead>\n",
       "    <tr style=\"text-align: right;\">\n",
       "      <th></th>\n",
       "      <th>Region</th>\n",
       "      <th>Year</th>\n",
       "      <th>Other taxes on products</th>\n",
       "    </tr>\n",
       "  </thead>\n",
       "  <tbody>\n",
       "    <tr>\n",
       "      <th>0</th>\n",
       "      <td>North East</td>\n",
       "      <td>2000</td>\n",
       "      <td>1972</td>\n",
       "    </tr>\n",
       "    <tr>\n",
       "      <th>1</th>\n",
       "      <td>North East</td>\n",
       "      <td>2001</td>\n",
       "      <td>1938</td>\n",
       "    </tr>\n",
       "    <tr>\n",
       "      <th>2</th>\n",
       "      <td>North East</td>\n",
       "      <td>2002</td>\n",
       "      <td>2007</td>\n",
       "    </tr>\n",
       "    <tr>\n",
       "      <th>3</th>\n",
       "      <td>North East</td>\n",
       "      <td>2003</td>\n",
       "      <td>2043</td>\n",
       "    </tr>\n",
       "    <tr>\n",
       "      <th>4</th>\n",
       "      <td>North East</td>\n",
       "      <td>2004</td>\n",
       "      <td>2137</td>\n",
       "    </tr>\n",
       "  </tbody>\n",
       "</table>\n",
       "</div>"
      ],
      "text/plain": [
       "       Region  Year  Other taxes on products\n",
       "0  North East  2000                     1972\n",
       "1  North East  2001                     1938\n",
       "2  North East  2002                     2007\n",
       "3  North East  2003                     2043\n",
       "4  North East  2004                     2137"
      ]
     },
     "execution_count": 58,
     "metadata": {},
     "output_type": "execute_result"
    }
   ],
   "source": [
    "dataframes = []\n",
    "\n",
    "for file in list_file_name:\n",
    "     df=pd.read_csv(file, index_col=0) \n",
    "    \n",
    "     #df=pd.read_csv(file) \n",
    "     dataframes.append(df) \n",
    "    \n",
    "dataframes[2].head()\n",
    "\n"
   ]
  },
  {
   "cell_type": "code",
   "execution_count": 59,
   "id": "98d43ed7-64d9-4129-8e86-2255afabaff8",
   "metadata": {},
   "outputs": [],
   "source": [
    "dataframes[0]['Year'] = dataframes[0]['Year'].astype(int)\n",
    "dataframes[0]['Region'] = dataframes[0]['Region'].astype('category')\n",
    "a = dataframes[0]\n",
    "for i in range(1,len(dataframes),1):\n",
    "    dataframes[i]['Year'] = dataframes[i]['Year'].astype(int)\n",
    "    dataframes[i]['Region'] = dataframes[i]['Region'].astype('category')\n",
    "    a = pd.merge(a,dataframes[i], how = 'left', on=['Region','Year'])\n",
    "\n"
   ]
  },
  {
   "cell_type": "code",
   "execution_count": 60,
   "id": "c889c70b-6def-4647-b0c8-ca1117187f2d",
   "metadata": {},
   "outputs": [],
   "source": [
    "len(a)\n",
    "a.to_csv('Totalgdp.csv')"
   ]
  },
  {
   "cell_type": "code",
   "execution_count": null,
   "id": "ada1da53-aaf6-4edd-aa2c-a97881b305de",
   "metadata": {},
   "outputs": [],
   "source": []
  },
  {
   "cell_type": "code",
   "execution_count": null,
   "id": "19f13917-0a8c-4f4e-9d4d-c4a1ef3c6f85",
   "metadata": {},
   "outputs": [],
   "source": []
  }
 ],
 "metadata": {
  "kernelspec": {
   "display_name": "Python 3 (ipykernel)",
   "language": "python",
   "name": "python3"
  },
  "language_info": {
   "codemirror_mode": {
    "name": "ipython",
    "version": 3
   },
   "file_extension": ".py",
   "mimetype": "text/x-python",
   "name": "python",
   "nbconvert_exporter": "python",
   "pygments_lexer": "ipython3",
   "version": "3.11.7"
  }
 },
 "nbformat": 4,
 "nbformat_minor": 5
}
