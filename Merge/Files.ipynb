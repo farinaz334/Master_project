{
 "cells": [
  {
   "cell_type": "markdown",
   "id": "06266ff2-3997-4c76-a70d-ec3556f8ca17",
   "metadata": {},
   "source": [
    "# Merge all files which are extracted from other datasets"
   ]
  },
  {
   "cell_type": "code",
   "execution_count": 1,
   "id": "b59e6e13-6e38-4407-b8e7-fd80d2c9a7f1",
   "metadata": {},
   "outputs": [],
   "source": [
    "#import libraries\n",
    "import pandas as pd\n",
    "import numpy as np"
   ]
  },
  {
   "cell_type": "code",
   "execution_count": 2,
   "id": "435968f5-acba-4029-9835-e6d6966d4a9d",
   "metadata": {},
   "outputs": [
    {
     "name": "stdout",
     "output_type": "stream",
     "text": [
      "21120\n",
      "243\n",
      "276\n"
     ]
    }
   ],
   "source": [
    "#list of files that we need extract \n",
    "file_name = [\"Turnover.csv\",\"Totalexpenditure.csv\",\"Totalgdp.csv\"]\n",
    "\n",
    "\n",
    "dataframes = []\n",
    "for file in file_name:\n",
    "     df=pd.read_csv(file, index_col=0) \n",
    "     print(len(df))\n",
    "     #df=pd.read_csv(file) \n",
    "     dataframes.append(df) \n",
    "    \n",
    "#dataframes[1].head()\n"
   ]
  },
  {
   "cell_type": "code",
   "execution_count": 3,
   "id": "ebcb4720-08a1-40cc-9e96-b7404091cf8f",
   "metadata": {},
   "outputs": [
    {
     "name": "stdout",
     "output_type": "stream",
     "text": [
      "19360\n",
      "110\n",
      "230\n"
     ]
    }
   ],
   "source": [
    "Region_list= [\n",
    "    \"East Midlands\",\n",
    "    \"East of England\",\n",
    "    \"London\",\n",
    "    \"North East\",\n",
    "    \"North West\",\n",
    "    \"Northern Ireland\",\n",
    "    \"Scotland\",\n",
    "    \"South East\",\n",
    "    \"South West\",\n",
    "    \"Wales\",\n",
    "    \"West Midlands\",\n",
    "    \"Yorkshire and the Humber\"\n",
    "]\n",
    "\n",
    "\n",
    "\n",
    "for i,f in zip(range(len(dataframes)), file_name):\n",
    "\n",
    "     # Replace \"East of England\" with \"East\"\n",
    "    dataframes[i].replace(\"East of England\",\"East\",inplace=True)\n",
    "    \n",
    "    dataframes[i]['Year'] = dataframes[i]['Year'].astype(int)\n",
    "    dataframes[i]['Region'] = dataframes[i]['Region'].astype('category')\n",
    "    # Drop rows where Region is not in \" Region_list\"\n",
    "    dataframes[i] = dataframes[i][dataframes[i][\"Region\"].isin(Region_list)]\n",
    "    print(len(dataframes[i]))\n",
    "    dataframes[i].to_csv('_'+f)\n",
    "\n",
    "\n"
   ]
  },
  {
   "cell_type": "code",
   "execution_count": 6,
   "id": "bf69c8a7-a8a9-4bf4-8956-aa50d83fa715",
   "metadata": {},
   "outputs": [],
   "source": [
    "\n",
    "first_dataframe = dataframes[0]\n",
    "for i in range(1,len(dataframes),1):\n",
    "    first_dataframe = pd.merge(first_dataframe,dataframes[i], how = 'left', suffixes=('_x'+str(i), '_y'+str(i)), on=['Region','Year'])\n",
    "first_dataframe.to_csv('Total_data.csv')"
   ]
  },
  {
   "cell_type": "code",
   "execution_count": null,
   "id": "58d74a33-0909-4ead-82a1-0b8007464275",
   "metadata": {},
   "outputs": [],
   "source": []
  }
 ],
 "metadata": {
  "kernelspec": {
   "display_name": "Python 3 (ipykernel)",
   "language": "python",
   "name": "python3"
  },
  "language_info": {
   "codemirror_mode": {
    "name": "ipython",
    "version": 3
   },
   "file_extension": ".py",
   "mimetype": "text/x-python",
   "name": "python",
   "nbconvert_exporter": "python",
   "pygments_lexer": "ipython3",
   "version": "3.11.7"
  }
 },
 "nbformat": 4,
 "nbformat_minor": 5
}
