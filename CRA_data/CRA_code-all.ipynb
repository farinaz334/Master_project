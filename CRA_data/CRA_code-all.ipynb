{
 "cells": [
  {
   "cell_type": "code",
   "execution_count": 1,
   "id": "32b08ecb-33d6-46f4-ae4e-0a5988312972",
   "metadata": {},
   "outputs": [],
   "source": [
    "import pandas as pd\n",
    "import numpy as np\n",
    "import os"
   ]
  },
  {
   "cell_type": "markdown",
   "id": "3d8e23a9-0519-4415-8cb3-0293359c398a",
   "metadata": {},
   "source": [
    "#reading file\n",
    "print (\"Updated directory:\" , os.getcwd())\n",
    "\n",
    "\n",
    "input_file = \"./Raw_data_CRA/CRA_2017.xlsx\"\n",
    "out_file = 'Totalexpenditure_2013_to_2013.csv'\n",
    "Original_years = [2013]\n",
    "List_Features =   [ \n",
    "    [\"Region\", \"Year\", \"Table A.1  Total identifiable expenditure on services\"],\n",
    "    [\"Region\", \"Year\", \"Table A.2  Total UK identifiable expenditure on services, per head \"],\n",
    "    [\"Region\", \"Year\", \"Table A.3  Real terms (1): Total identifiable expenditure on services\"],\n",
    "    [\"Region\", \"Year\", \"Table A.4  Real terms (1): Total UK identifiable expenditure on services per head (2)\"],\n",
    "    [\"Region\", \"Year\", \"Table A.5  Identifiable expenditure on general public services\"],\n",
    "    [\"Region\", \"Year\", \"Table A.5a  Identifiable expenditure on general public services (of which: public and common services)\"],\n",
    "    [\"Region\", \"Year\", \"Table A.5b  Identifiable expenditure on general public services (of which: international services)\"],\n",
    "    [\"Region\", \"Year\", \"Table A.5c  Identifiable expenditure on general public services (of which: public sector debt interest)\"],\n",
    "    [\"Region\", \"Year\", \"Table A.6  Identifiable expenditure on defence\"],\n",
    "    [\"Region\", \"Year\", \"Table A.7  Identifiable expenditure on public order and safety\"],\n",
    "    [\"Region\", \"Year\", \"Table A.8  Identifiable expenditure on economic affairs\"],\n",
    "    [\"Region\", \"Year\", \"Table A.8a  Identifiable expenditure on economic affairs (of which: enterprise and economic development)\"],\n",
    "    [\"Region\", \"Year\", \"Table A.8b  Identifiable expenditure on economic affairs (of which: science and technology)\"],\n",
    "    [\"Region\", \"Year\", \"Table A.8c  Identifiable expenditure on economic affairs (of which: employment policies)\"],\n",
    "    [\"Region\", \"Year\", \"Table A.8d  Identifiable expenditure on economic affairs (of which: agriculture, fisheries and forestry)\"],\n",
    "    [\"Region\", \"Year\", \"Table A.8e  Identifiable expenditure on economic affairs (of which: transport (1,2))\"],\n",
    "    [\"Region\", \"Year\", \"Table A.9  Identifiable expenditure on environment protection\"],\n",
    "    [\"Region\", \"Year\", \"Table A.10  Identifiable expenditure on housing and community amenities\"],\n",
    "    [\"Region\", \"Year\", \"Table A.11  Identifiable expenditure on health\"],\n",
    "    [\"Region\", \"Year\", \"Table A.12  Identifiable expenditure on recreation, culture and religion\"],\n",
    "    [\"Region\", \"Year\", \"Table A.13  Identifiable expenditure on education\"],\n",
    "    [\"Region\", \"Year\", \"Table A.14  Identifiable expenditure on social protection\"],\n",
    "    [\"Region\", \"Year\", \"Table A.15  UK identifiable expenditure on services by function per head (1)\"],\n",
    "    [\"Region\", \"Year\", \"Table A.16  UK identifiable expenditure on services by function, per head indexed\"],\n",
    "    [\"Region\", \"Year\", \"Table A.17  Total local government identifiable expenditure on services\"],\n",
    "    [\"Region\", \"Year\", \"Table A.18  Total local government identifiable expenditure on services, per head (1)\"],\n",
    "    [\"Region\", \"Year\", \"Table A.19  Total identifiable expenditure on services excluding local government (1)\"]\n",
    "    #[\"Region\", \"Year\", \"Table A.20  UK identifiable expenditure excluding local government (1) per head (2)\"],\n",
    "]\n",
    "\n",
    "\n",
    " \n",
    "\n",
    "\n"
   ]
  },
  {
   "cell_type": "markdown",
   "id": "a80e70c3-e2f0-44bc-88e5-b234af2a14fb",
   "metadata": {},
   "source": [
    "input_file = \"./Raw_data_CRA/CRA_2018.xlsx\"\n",
    "out_file = 'Totalexpenditure_2014_to_2018.csv'\n",
    "Original_years = [2014,2015,2016,2017,2018]\n",
    "List_Features =   [ \n",
    "    [\"Region\", \"Year\", \"Table A.1  Total identifiable expenditure on services\"],\n",
    "    [\"Region\", \"Year\", \"Table A.2  Total UK identifiable expenditure on services, per head \"],\n",
    "    [\"Region\", \"Year\", \"Table A.3  Real terms (1): Total identifiable expenditure on services\"],\n",
    "    [\"Region\", \"Year\", \"Table A.4  Real terms (1): Total UK identifiable expenditure on services per head (2)\"],\n",
    "    [\"Region\", \"Year\", \"Table A.5  Identifiable expenditure on general public services\"],\n",
    "    [\"Region\", \"Year\", \"Table A.5a  Identifiable expenditure on general public services (of which: public and common services)\"],\n",
    "    [\"Region\", \"Year\", \"Table A.5b  Identifiable expenditure on general public services (of which: international services)\"],\n",
    "    [\"Region\", \"Year\", \"Table A.5c  Identifiable expenditure on general public services (of which: public sector debt interest)\"],\n",
    "    [\"Region\", \"Year\", \"Table A.6  Identifiable expenditure on defence\"],\n",
    "    [\"Region\", \"Year\", \"Table A.7  Identifiable expenditure on public order and safety\"],\n",
    "    [\"Region\", \"Year\", \"Table A.8  Identifiable expenditure on economic affairs\"],\n",
    "    [\"Region\", \"Year\", \"Table A.8a  Identifiable expenditure on economic affairs (of which: enterprise and economic development)\"],\n",
    "    [\"Region\", \"Year\", \"Table A.8b  Identifiable expenditure on economic affairs (of which: science and technology)\"],\n",
    "    [\"Region\", \"Year\", \"Table A.8c  Identifiable expenditure on economic affairs (of which: employment policies)\"],\n",
    "    [\"Region\", \"Year\", \"Table A.8d  Identifiable expenditure on economic affairs (of which: agriculture, fisheries and forestry)\"],\n",
    "    [\"Region\", \"Year\", \"Table A.8e  Identifiable expenditure on economic affairs (of which: transport (1,2))\"],\n",
    "    [\"Region\", \"Year\", \"Table A.9  Identifiable expenditure on environment protection\"],\n",
    "    [\"Region\", \"Year\", \"Table A.10  Identifiable expenditure on housing and community amenities\"],\n",
    "    [\"Region\", \"Year\", \"Table A.11  Identifiable expenditure on health\"],\n",
    "    [\"Region\", \"Year\", \"Table A.12  Identifiable expenditure on recreation, culture and religion\"],\n",
    "    [\"Region\", \"Year\", \"Table A.13  Identifiable expenditure on education\"],\n",
    "    [\"Region\", \"Year\", \"Table A.14  Identifiable expenditure on social protection\"],\n",
    "    [\"Region\", \"Year\", \"Table A.15  UK identifiable expenditure on services by function per head (1)\"],\n",
    "    [\"Region\", \"Year\", \"Table A.16  UK identifiable expenditure on services by function, per head indexed\"],\n",
    "    [\"Region\", \"Year\", \"Table A.17  Total local government identifiable expenditure on services\"],\n",
    "    [\"Region\", \"Year\", \"Table A.18  Total local government identifiable expenditure on services, per head (1)\"],\n",
    "    [\"Region\", \"Year\", \"Table A.19  Total identifiable expenditure on services excluding local government (1)\"]\n",
    "    #[\"Region\", \"Year\", \"Table A.20  UK identifiable expenditure excluding local government (1) per head (2)\"],\n",
    "]\n"
   ]
  },
  {
   "cell_type": "code",
   "execution_count": 48,
   "id": "140c90d9-eb45-4a66-b1b1-6e15c934086d",
   "metadata": {},
   "outputs": [],
   "source": [
    "input_file = \"./Raw_data_CRA/CRA_2023.xlsx\"\n",
    "out_file = 'Totalexpenditure_2019_to_2023.csv'\n",
    "Original_years = [2019,2020,2021,2022,2023]\n",
    "List_Features =   [ \n",
    "    [\"Region\", \"Year\", \"Table A.1  Total identifiable expenditure on services\"],\n",
    "    [\"Region\", \"Year\", \"Table A.2  Total UK identifiable expenditure on services, per head \"],\n",
    "    [\"Region\", \"Year\", \"Table A.3  Real terms (1): Total identifiable expenditure on services\"],\n",
    "    [\"Region\", \"Year\", \"Table A.4  Real terms (1): Total UK identifiable expenditure on services per head (2)\"],\n",
    "    [\"Region\", \"Year\", \"Table A.5  Identifiable expenditure on general public services\"],\n",
    "    [\"Region\", \"Year\", \"Table A.5a  Identifiable expenditure on general public services (of which: public and common services)\"],\n",
    "    [\"Region\", \"Year\", \"Table A.5b  Identifiable expenditure on general public services (of which: international services)\"],\n",
    "    [\"Region\", \"Year\", \"Table A.5c  Identifiable expenditure on general public services (of which: public sector debt interest)\"],\n",
    "    [\"Region\", \"Year\", \"Table A.6  Identifiable expenditure on defence\"],\n",
    "    [\"Region\", \"Year\", \"Table A.7  Identifiable expenditure on public order and safety\"],\n",
    "    [\"Region\", \"Year\", \"Table A.8  Identifiable expenditure on economic affairs\"],\n",
    "    [\"Region\", \"Year\", \"Table A.8a  Identifiable expenditure on economic affairs (of which: enterprise and economic development)\"],\n",
    "    [\"Region\", \"Year\", \"Table A.8b  Identifiable expenditure on economic affairs (of which: science and technology)\"],\n",
    "    [\"Region\", \"Year\", \"Table A.8c  Identifiable expenditure on economic affairs (of which: employment policies)\"],\n",
    "    [\"Region\", \"Year\", \"Table A.8d  Identifiable expenditure on economic affairs (of which: agriculture, fisheries and forestry)\"],\n",
    "    [\"Region\", \"Year\", \"Table A.8e  Identifiable expenditure on economic affairs (of which: transport (1,2))\"],\n",
    "    [\"Region\", \"Year\", \"Table A.9  Identifiable expenditure on environment protection\"],\n",
    "    [\"Region\", \"Year\", \"Table A.10  Identifiable expenditure on housing and community amenities\"],\n",
    "    [\"Region\", \"Year\", \"Table A.11  Identifiable expenditure on health\"],\n",
    "    [\"Region\", \"Year\", \"Table A.12  Identifiable expenditure on recreation, culture and religion\"],\n",
    "    [\"Region\", \"Year\", \"Table A.13  Identifiable expenditure on education\"],\n",
    "    [\"Region\", \"Year\", \"Table A.14  Identifiable expenditure on social protection\"],\n",
    "    [\"Region\", \"Year\", \"Table A.15  UK identifiable expenditure on services by function per head (1)\"],\n",
    "    [\"Region\", \"Year\", \"Table A.16  UK identifiable expenditure on services by function, per head indexed\"],\n",
    "    [\"Region\", \"Year\", \"Table A.17  Total local government identifiable expenditure on services\"],\n",
    "    [\"Region\", \"Year\", \"Table A.18  Total local government identifiable expenditure on services, per head (1)\"],\n",
    "    [\"Region\", \"Year\", \"Table A.19  Total identifiable expenditure on services excluding local government (1)\"],\n",
    "   \n",
    "]"
   ]
  },
  {
   "cell_type": "code",
   "execution_count": 49,
   "id": "1e00785f-744c-4de3-97ed-b26dcec9e2a2",
   "metadata": {},
   "outputs": [
    {
     "name": "stdout",
     "output_type": "stream",
     "text": [
      "Filtered Sheet Names: ['A.1a', 'A.1b', 'A.2a', 'A.2b', 'A.5', 'A.5a', 'A.5b', 'A.5c', 'A.6', 'A.7', 'A.8', 'A.8a', 'A.8b', 'A.8c', 'A.8d', 'A.8e', 'A.9', 'A.10', 'A.11', 'A.12', 'A.13', 'A.14', 'A.15', 'A.16', 'A.17', 'A.18', 'A.19']\n"
     ]
    }
   ],
   "source": [
    "excel_file= pd.ExcelFile(input_file)\n",
    "sheet_names=excel_file.sheet_names\n",
    "\n",
    "\n",
    "\n",
    "sheets_to_drop = [\"Metadata\",\"A.3a\", \"A.3b\", \"A.4a\", \"A.4b\",\"A.21\",\"2.5\",'A.20']\n",
    "filtered_sheet_names = [name for name in sheet_names if name not in sheets_to_drop]\n",
    "print(\"Filtered Sheet Names:\", filtered_sheet_names)"
   ]
  },
  {
   "cell_type": "code",
   "execution_count": 50,
   "id": "35537283-7441-4361-8272-c3b7d2ec6fde",
   "metadata": {},
   "outputs": [],
   "source": [
    "def str_to_int(s, d= 0):\n",
    "    try:\n",
    "        return int(s)\n",
    "    except:\n",
    "        return d\n"
   ]
  },
  {
   "cell_type": "code",
   "execution_count": 51,
   "id": "43f74a70-f121-4be9-b2f2-6e3fd478210f",
   "metadata": {},
   "outputs": [
    {
     "name": "stdout",
     "output_type": "stream",
     "text": [
      "A.1b\n"
     ]
    }
   ],
   "source": [
    "\n",
    "def New_table (sheet_name,Features,file_name):\n",
    "    Tabl=pd.read_excel(excel_file,sheet_name=sheet_name)\n",
    "    empty_df = pd.DataFrame(columns=Features)\n",
    "    #print(Features)\n",
    "\n",
    "\n",
    "    # find the first row\n",
    "    row_offset= 0\n",
    "    while (pd.isna(Tabl.iloc[row_offset,0])):\n",
    "        row_offset= row_offset +1  \n",
    "    #print('row', row_offset, Tabl.iloc[row_offset,0])\n",
    "    #print('row', row_offset, Tabl.iloc[row_offset,1])\n",
    "    #print('row', row_offset, Tabl.iloc[row_offset-1,0])\n",
    "    #print('row', row_offset, Tabl.iloc[row_offset-1,1])\n",
    "    for j in range(row_offset,len(Tabl),1):\n",
    "            if (pd.isna(Tabl.iloc[j,0])): continue;\n",
    "            i = 0\n",
    "            for year in Original_years:\n",
    "                #print(year)\n",
    "                col_offset = 0\n",
    "                while ((col_offset< len(Tabl.columns)) and (str_to_int(str(Tabl.iloc[row_offset-1,col_offset])[:4]) != str_to_int(year)-1) ):\n",
    "                    #print(str_to_int(str(Tabl.iloc[row_offset-1,col_offset])[:4]) ,  str_to_int(year)-1)\n",
    "                    col_offset= col_offset +1         \n",
    "                if (col_offset >= len(Tabl.columns)):\n",
    "                    #print(year)\n",
    "                    year = '0000'\n",
    "                    continue \n",
    "                #print('col',row_offset-1,col_offset,Tabl.iloc[row_offset-1,col_offset])    \n",
    "                #print(offset)\n",
    "                new_row = {Features[0]: Tabl.iloc[j,0], \n",
    "                           Features[1] : year,\n",
    "                           Features[2] : Tabl.iloc[j,col_offset]} \n",
    "                #print(j,col_offset, Table_1.iloc[j,col_offset])\n",
    "                i=i+1          \n",
    "                empty_df =pd.concat([empty_df, pd.DataFrame([new_row])], ignore_index=True)\n",
    "    empty_df.to_csv (file_name)\n",
    "\n",
    "sheetname = sheet_names[2]\n",
    "list_feature = List_Features[1] \n",
    "print(sheetname)\n",
    "\n"
   ]
  },
  {
   "cell_type": "code",
   "execution_count": 52,
   "id": "7cb15e6c-c67e-4063-a0b5-698602c37945",
   "metadata": {},
   "outputs": [
    {
     "name": "stdout",
     "output_type": "stream",
     "text": [
      "A.1a ['Region', 'Year', 'Table A.1  Total identifiable expenditure on services'] Table A.1  .csv\n",
      "A.1b ['Region', 'Year', 'Table A.2  Total UK identifiable expenditure on services, per head '] Table A.2  .csv\n",
      "A.2a ['Region', 'Year', 'Table A.3  Real terms (1): Total identifiable expenditure on services'] Table A.3  .csv\n",
      "A.2b ['Region', 'Year', 'Table A.4  Real terms (1): Total UK identifiable expenditure on services per head (2)'] Table A.4  .csv\n",
      "A.5 ['Region', 'Year', 'Table A.5  Identifiable expenditure on general public services'] Table A.5  .csv\n",
      "A.5a ['Region', 'Year', 'Table A.5a  Identifiable expenditure on general public services (of which: public and common services)'] Table A.5a .csv\n",
      "A.5b ['Region', 'Year', 'Table A.5b  Identifiable expenditure on general public services (of which: international services)'] Table A.5b .csv\n",
      "A.5c ['Region', 'Year', 'Table A.5c  Identifiable expenditure on general public services (of which: public sector debt interest)'] Table A.5c .csv\n",
      "A.6 ['Region', 'Year', 'Table A.6  Identifiable expenditure on defence'] Table A.6  .csv\n",
      "A.7 ['Region', 'Year', 'Table A.7  Identifiable expenditure on public order and safety'] Table A.7  .csv\n",
      "A.8 ['Region', 'Year', 'Table A.8  Identifiable expenditure on economic affairs'] Table A.8  .csv\n",
      "A.8a ['Region', 'Year', 'Table A.8a  Identifiable expenditure on economic affairs (of which: enterprise and economic development)'] Table A.8a .csv\n",
      "A.8b ['Region', 'Year', 'Table A.8b  Identifiable expenditure on economic affairs (of which: science and technology)'] Table A.8b .csv\n",
      "A.8c ['Region', 'Year', 'Table A.8c  Identifiable expenditure on economic affairs (of which: employment policies)'] Table A.8c .csv\n",
      "A.8d ['Region', 'Year', 'Table A.8d  Identifiable expenditure on economic affairs (of which: agriculture, fisheries and forestry)'] Table A.8d .csv\n",
      "A.8e ['Region', 'Year', 'Table A.8e  Identifiable expenditure on economic affairs (of which: transport (1,2))'] Table A.8e .csv\n",
      "A.9 ['Region', 'Year', 'Table A.9  Identifiable expenditure on environment protection'] Table A.9  .csv\n",
      "A.10 ['Region', 'Year', 'Table A.10  Identifiable expenditure on housing and community amenities'] Table A.10 .csv\n",
      "A.11 ['Region', 'Year', 'Table A.11  Identifiable expenditure on health'] Table A.11 .csv\n",
      "A.12 ['Region', 'Year', 'Table A.12  Identifiable expenditure on recreation, culture and religion'] Table A.12 .csv\n",
      "A.13 ['Region', 'Year', 'Table A.13  Identifiable expenditure on education'] Table A.13 .csv\n",
      "A.14 ['Region', 'Year', 'Table A.14  Identifiable expenditure on social protection'] Table A.14 .csv\n",
      "A.15 ['Region', 'Year', 'Table A.15  UK identifiable expenditure on services by function per head (1)'] Table A.15 .csv\n",
      "A.16 ['Region', 'Year', 'Table A.16  UK identifiable expenditure on services by function, per head indexed'] Table A.16 .csv\n",
      "A.17 ['Region', 'Year', 'Table A.17  Total local government identifiable expenditure on services'] Table A.17 .csv\n",
      "A.18 ['Region', 'Year', 'Table A.18  Total local government identifiable expenditure on services, per head (1)'] Table A.18 .csv\n",
      "A.19 ['Region', 'Year', 'Table A.19  Total identifiable expenditure on services excluding local government (1)'] Table A.19 .csv\n"
     ]
    }
   ],
   "source": [
    "for sheetname, list_feature in zip(filtered_sheet_names, List_Features):\n",
    "    print(sheetname,list_feature,list_feature[2][:11]+'.csv')\n",
    "    New_table(sheetname,list_feature,'./temp/'+list_feature[2][:11]+'.csv')"
   ]
  },
  {
   "cell_type": "code",
   "execution_count": 53,
   "id": "00c2d043-b386-4bce-ae10-735f49ccd915",
   "metadata": {},
   "outputs": [
    {
     "data": {
      "text/html": [
       "<div>\n",
       "<style scoped>\n",
       "    .dataframe tbody tr th:only-of-type {\n",
       "        vertical-align: middle;\n",
       "    }\n",
       "\n",
       "    .dataframe tbody tr th {\n",
       "        vertical-align: top;\n",
       "    }\n",
       "\n",
       "    .dataframe thead th {\n",
       "        text-align: right;\n",
       "    }\n",
       "</style>\n",
       "<table border=\"1\" class=\"dataframe\">\n",
       "  <thead>\n",
       "    <tr style=\"text-align: right;\">\n",
       "      <th></th>\n",
       "      <th>Region</th>\n",
       "      <th>Year</th>\n",
       "      <th>Table A.3  Real terms (1): Total identifiable expenditure on services</th>\n",
       "    </tr>\n",
       "  </thead>\n",
       "  <tbody>\n",
       "    <tr>\n",
       "      <th>0</th>\n",
       "      <td>North East</td>\n",
       "      <td>2019</td>\n",
       "      <td>30304.0</td>\n",
       "    </tr>\n",
       "    <tr>\n",
       "      <th>1</th>\n",
       "      <td>North East</td>\n",
       "      <td>2020</td>\n",
       "      <td>30578.0</td>\n",
       "    </tr>\n",
       "    <tr>\n",
       "      <th>2</th>\n",
       "      <td>North East</td>\n",
       "      <td>2021</td>\n",
       "      <td>37525.0</td>\n",
       "    </tr>\n",
       "    <tr>\n",
       "      <th>3</th>\n",
       "      <td>North East</td>\n",
       "      <td>2022</td>\n",
       "      <td>34142.0</td>\n",
       "    </tr>\n",
       "    <tr>\n",
       "      <th>4</th>\n",
       "      <td>North East</td>\n",
       "      <td>2023</td>\n",
       "      <td>34712.0</td>\n",
       "    </tr>\n",
       "  </tbody>\n",
       "</table>\n",
       "</div>"
      ],
      "text/plain": [
       "       Region  Year  \\\n",
       "0  North East  2019   \n",
       "1  North East  2020   \n",
       "2  North East  2021   \n",
       "3  North East  2022   \n",
       "4  North East  2023   \n",
       "\n",
       "   Table A.3  Real terms (1): Total identifiable expenditure on services  \n",
       "0                                            30304.0                      \n",
       "1                                            30578.0                      \n",
       "2                                            37525.0                      \n",
       "3                                            34142.0                      \n",
       "4                                            34712.0                      "
      ]
     },
     "execution_count": 53,
     "metadata": {},
     "output_type": "execute_result"
    }
   ],
   "source": [
    "#saving\n",
    "list_feature[2][:11]+'.csv'\n",
    "dataframes = []\n",
    "\n",
    "for list_feature in List_Features:\n",
    "     file  = './temp/'+list_feature[2][:11]+'.csv'\n",
    "     #print(file,list_feature[2])\n",
    "     df=pd.read_csv(file, index_col=0) \n",
    "     #df=pd.read_csv(file) \n",
    "     dataframes.append(df) \n",
    "    \n",
    "dataframes[2].head()\n"
   ]
  },
  {
   "cell_type": "code",
   "execution_count": 54,
   "id": "7bfdb1d5-4f3e-46d1-8990-9dfede313e5c",
   "metadata": {},
   "outputs": [],
   "source": [
    "for i in range(1,len(dataframes),1):\n",
    "   \n",
    "    \n",
    "    dataframes[0] = pd.merge(dataframes[0],dataframes[i], how = 'left', suffixes=('_x'+str(i), '_y'+str(i)), on=['Region','Year'])\n",
    "\n"
   ]
  },
  {
   "cell_type": "code",
   "execution_count": 55,
   "id": "b9901476-8e4e-4bb5-929b-a635c5688d67",
   "metadata": {},
   "outputs": [],
   "source": [
    " dataframes[0]\n",
    " dataframes[0].to_csv(out_file)"
   ]
  },
  {
   "cell_type": "code",
   "execution_count": 56,
   "id": "a9b8799d-144c-4bee-9c3c-f92a24a93476",
   "metadata": {},
   "outputs": [],
   "source": [
    "df1 = pd.read_csv('Totalexpenditure_2013_to_2013.csv')\n",
    "df2 = pd.read_csv('Totalexpenditure_2014_to_2018.csv')\n",
    "df3 = pd.read_csv('Totalexpenditure_2019_to_2023.csv')\n",
    "a = pd.concat([df1, df2, df3])\n",
    "a.to_csv('Totalexpenditure.csv')"
   ]
  },
  {
   "cell_type": "code",
   "execution_count": 57,
   "id": "413479d7-3177-4cf8-b975-8d84631ef93a",
   "metadata": {},
   "outputs": [],
   "source": []
  },
  {
   "cell_type": "code",
   "execution_count": null,
   "id": "ec88a73b-8c49-4f00-8a1f-b04fa8a16e5e",
   "metadata": {},
   "outputs": [],
   "source": []
  },
  {
   "cell_type": "code",
   "execution_count": null,
   "id": "701f89c2-5d89-47f6-833b-ccda45fcb726",
   "metadata": {},
   "outputs": [],
   "source": []
  }
 ],
 "metadata": {
  "kernelspec": {
   "display_name": "Python 3 (ipykernel)",
   "language": "python",
   "name": "python3"
  },
  "language_info": {
   "codemirror_mode": {
    "name": "ipython",
    "version": 3
   },
   "file_extension": ".py",
   "mimetype": "text/x-python",
   "name": "python",
   "nbconvert_exporter": "python",
   "pygments_lexer": "ipython3",
   "version": "3.11.7"
  }
 },
 "nbformat": 4,
 "nbformat_minor": 5
}
