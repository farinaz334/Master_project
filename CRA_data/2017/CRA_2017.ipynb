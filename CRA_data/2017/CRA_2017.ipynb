{
 "cells": [
  {
   "cell_type": "code",
   "execution_count": 2,
   "id": "32b08ecb-33d6-46f4-ae4e-0a5988312972",
   "metadata": {},
   "outputs": [],
   "source": [
    "import pandas as pd\n",
    "import numpy as np\n",
    "import os"
   ]
  },
  {
   "cell_type": "code",
   "execution_count": 3,
   "id": "30c1e7e0-d6d7-42ef-9a31-746fc7a62d56",
   "metadata": {},
   "outputs": [
    {
     "name": "stdout",
     "output_type": "stream",
     "text": [
      "Updated directory: E:\\UWE\\Master_Project\\2017\n",
      "['A.1', 'A.2', 'A.3', 'A.4', 'A.5', 'A.5a', 'A.5b', 'A.5c', 'A.6', 'A.7', 'A.8', 'A.8a', 'A.8b', 'A.8c', 'A.8d', 'A.8e', 'A.9', 'A.10', 'A.11', 'A.12', 'A.13', 'A.14', 'A.15', 'A.16', 'A.17', 'A.18', 'A.19', 'A.20', 'A.21', '2.5']\n"
     ]
    }
   ],
   "source": [
    "\n",
    "#reading file\n",
    "print (\"Updated directory:\" , os.getcwd())\n",
    "excel_file= pd.ExcelFile(\"./CRA_2016.xlsx\")\n",
    "sheet_names=excel_file.sheet_names\n",
    "print(sheet_names)\n"
   ]
  },
  {
   "cell_type": "code",
   "execution_count": 4,
   "id": "927c0abd-75ef-4c48-a8f0-6e4599736718",
   "metadata": {},
   "outputs": [],
   "source": [
    "Table=pd.read_excel(excel_file,sheet_name=sheet_names)\n",
    "\n",
    "#Table.head()"
   ]
  },
  {
   "cell_type": "code",
   "execution_count": 11,
   "id": "b55acccd-62e2-4cdc-b4e5-277a2722f74e",
   "metadata": {},
   "outputs": [
    {
     "name": "stdout",
     "output_type": "stream",
     "text": [
      "['2011-12\\noutturn', '2012-13\\noutturn', '2013-14\\noutturn', '2014-15\\noutturn', '2015-16\\noutturn']\n"
     ]
    }
   ],
   "source": [
    "offset=0\n",
    "\n",
    "Original_years = Table['A.1'].iloc[offset+2].dropna().unique().tolist()\n",
    "print(Original_years)\n",
    "#years=[]\n",
    "\n",
    "\n",
    "#for year in Original_years:\n",
    "#    years.append(year[0:4])\n",
    "#print(years)"
   ]
  },
  {
   "cell_type": "code",
   "execution_count": 5,
   "id": "89be74ce-d0b6-42c9-8344-37c6c695f61a",
   "metadata": {},
   "outputs": [],
   "source": [
    "List_Features =   [ \n",
    "    [\"Region\", \"Year\", \"Table A.1a  Total identifiable expenditure on services\"],\n",
    "    [\"Region\", \"Year\", \"Table A.1b  Total UK identifiable expenditure on services, per head \"],\n",
    "    [\"Region\", \"Year\", \"Table A.2a  Real terms (1): Total identifiable expenditure on services\"],\n",
    "    [\"Region\", \"Year\", \"Table A.2b  Real terms (1): Total UK identifiable expenditure on services per head (2)\"],\n",
    "    [\"Region\", \"Year\", \"Table A.3a  Total current and capital identifiable expenditure\"],\n",
    "    [\"Region\", \"Year\", \"Table A.3b  Total current and capital UK identifiable expenditure, per head\"],\n",
    "    [\"Region\", \"Year\", \"Table A.4a  Real terms (1): Total current and capital identifiable expenditure\"],\n",
    "    [\"Region\", \"Year\", \"Table A.4b  Real terms (1): Total current and capital UK identifiable expenditure, per head (2)\"],\n",
    "    [\"Region\", \"Year\", \"Table A.5  Identifiable expenditure on general public services\"],\n",
    "    [\"Region\", \"Year\", \"Table A.5a  Identifiable expenditure on general public services (of which: public and common services)\"],\n",
    "    [\"Region\", \"Year\", \"Table A.5b  Identifiable expenditure on general public services (of which: international services)\"],\n",
    "    [\"Region\", \"Year\", \"Table A.5c  Identifiable expenditure on general public services (of which: public sector debt interest)\"],\n",
    "    [\"Region\", \"Year\", \"Table A.6  Identifiable expenditure on defence\"],\n",
    "    [\"Region\", \"Year\", \"Table A.7  Identifiable expenditure on public order and safety\"],\n",
    "    [\"Region\", \"Year\", \"Table A.8  Identifiable expenditure on economic affairs\"],\n",
    "    [\"Region\", \"Year\", \"Table A.8a  Identifiable expenditure on economic affairs (of which: enterprise and economic development)\"],\n",
    "    [\"Region\", \"Year\", \"Table A.8b  Identifiable expenditure on economic affairs (of which: science and technology)\"],\n",
    "    [\"Region\", \"Year\", \"Table A.8c  Identifiable expenditure on economic affairs (of which: employment policies)\"],\n",
    "    [\"Region\", \"Year\", \"Table A.8d  Identifiable expenditure on economic affairs (of which: agriculture, fisheries and forestry)\"],\n",
    "    [\"Region\", \"Year\", \"Table A.8e  Identifiable expenditure on economic affairs (of which: transport (1,2))\"],\n",
    "    [\"Region\", \"Year\", \"Table A.9  Identifiable expenditure on environment protection\"],\n",
    "    [\"Region\", \"Year\", \"Table A.10  Identifiable expenditure on housing and community amenities\"],\n",
    "    [\"Region\", \"Year\", \"Table A.11  Identifiable expenditure on health\"],\n",
    "    [\"Region\", \"Year\", \"Table A.12  Identifiable expenditure on recreation, culture and religion\"],\n",
    "    [\"Region\", \"Year\", \"Table A.13  Identifiable expenditure on education\"],\n",
    "    [\"Region\", \"Year\", \"Table A.14  Identifiable expenditure on social protection\"],\n",
    "    [\"Region\", \"Year\", \"Table A.15  UK identifiable expenditure on services by function per head (1)\"],\n",
    "    [\"Region\", \"Year\", \"Table A.16  UK identifiable expenditure on services by function, per head indexed\"],\n",
    "    [\"Region\", \"Year\", \"Table A.17  Total local government identifiable expenditure on services\"],\n",
    "    [\"Region\", \"Year\", \"Table A.18  Total local government identifiable expenditure on services, per head (1)\"],\n",
    "    [\"Region\", \"Year\", \"Table A.19  Total identifiable expenditure on services excluding local government (1)\"],\n",
    "    [\"Region\", \"Year\", \"Table A.20  UK identifiable expenditure excluding local government (1) per head (2)\"],\n",
    "    [\"Region\", \"Year\", \"Table A.21  Identifiable expenditure on services for Scotland, Wales and Northern Ireland in 2022-23\"]\n",
    "]\n"
   ]
  },
  {
   "cell_type": "code",
   "execution_count": 6,
   "id": "43f74a70-f121-4be9-b2f2-6e3fd478210f",
   "metadata": {},
   "outputs": [],
   "source": [
    "\n",
    "def New_table (sheet_name,Features,file_name):\n",
    "    Tabl=pd.read_excel(excel_file,sheet_name=sheet_name)\n",
    "    empty_df = pd.DataFrame(columns=Features)\n",
    "    #print(Features)\n",
    "\n",
    "\n",
    "    # find the first row\n",
    "    row_offset= 0\n",
    "    while (pd.isna(Tabl.iloc[row_offset,0])):\n",
    "        row_offset= row_offset +1  \n",
    "    #print('row', row_offset, Tabl.iloc[row_offset,0])\n",
    "    #print('row', row_offset, Tabl.iloc[row_offset,1])\n",
    "    #print('row', row_offset, Tabl.iloc[row_offset-1,0])\n",
    "    #print('row', row_offset, Tabl.iloc[row_offset-1,1])\n",
    "    for j in range(row_offset,len(Tabl),1):\n",
    "            if (pd.isna(Tabl.iloc[j,0])): continue;\n",
    "            i = 0\n",
    "            for year in Original_years:\n",
    "                #print(year)\n",
    "                col_offset = 0\n",
    "                while ((Tabl.iloc[row_offset-1,col_offset] != year) and (col_offset<= 5)):\n",
    "                    col_offset= col_offset +1         \n",
    "                if (col_offset > 5): year = '0000'\n",
    "                #print('col',row_offset-1,col_offset,Tabl.iloc[row_offset-1,col_offset])    \n",
    "                #print(offset)\n",
    "                new_row = {Features[0]: Tabl.iloc[j,0], \n",
    "                           Features[1] : year[:4],\n",
    "                           Features[2] : Tabl.iloc[j,col_offset]} \n",
    "                #print(j,col_offset, Table_1.iloc[j,col_offset])\n",
    "                i=i+1          \n",
    "                empty_df =pd.concat([empty_df, pd.DataFrame([new_row])], ignore_index=True)\n",
    "    empty_df.to_csv (file_name)\n",
    "\n",
    "#sheetname = sheet_names[2]\n",
    "#list_feature = List_Features[1] \n",
    "#print(sheetname)\n",
    "\n",
    "#New_table(sheetname,list_feature,'____'+list_feature[2][:11]+'.csv')"
   ]
  },
  {
   "cell_type": "code",
   "execution_count": 7,
   "id": "7cb15e6c-c67e-4063-a0b5-698602c37945",
   "metadata": {},
   "outputs": [
    {
     "ename": "NameError",
     "evalue": "name 'Original_years' is not defined",
     "output_type": "error",
     "traceback": [
      "\u001b[1;31m---------------------------------------------------------------------------\u001b[0m",
      "\u001b[1;31mNameError\u001b[0m                                 Traceback (most recent call last)",
      "Cell \u001b[1;32mIn[7], line 3\u001b[0m\n\u001b[0;32m      1\u001b[0m \u001b[38;5;28;01mfor\u001b[39;00m sheetname, list_feature \u001b[38;5;129;01min\u001b[39;00m \u001b[38;5;28mzip\u001b[39m(sheet_names[\u001b[38;5;241m1\u001b[39m:], List_Features):\n\u001b[1;32m----> 3\u001b[0m     New_table(sheetname,list_feature,list_feature[\u001b[38;5;241m2\u001b[39m][:\u001b[38;5;241m11\u001b[39m]\u001b[38;5;241m+\u001b[39m\u001b[38;5;124m'\u001b[39m\u001b[38;5;124m.csv\u001b[39m\u001b[38;5;124m'\u001b[39m)\n",
      "Cell \u001b[1;32mIn[6], line 18\u001b[0m, in \u001b[0;36mNew_table\u001b[1;34m(sheet_name, Features, file_name)\u001b[0m\n\u001b[0;32m     16\u001b[0m \u001b[38;5;28;01mif\u001b[39;00m (pd\u001b[38;5;241m.\u001b[39misna(Tabl\u001b[38;5;241m.\u001b[39miloc[j,\u001b[38;5;241m0\u001b[39m])): \u001b[38;5;28;01mcontinue\u001b[39;00m;\n\u001b[0;32m     17\u001b[0m i \u001b[38;5;241m=\u001b[39m \u001b[38;5;241m0\u001b[39m\n\u001b[1;32m---> 18\u001b[0m \u001b[38;5;28;01mfor\u001b[39;00m year \u001b[38;5;129;01min\u001b[39;00m Original_years:\n\u001b[0;32m     19\u001b[0m     \u001b[38;5;66;03m#print(year)\u001b[39;00m\n\u001b[0;32m     20\u001b[0m     col_offset \u001b[38;5;241m=\u001b[39m \u001b[38;5;241m0\u001b[39m\n\u001b[0;32m     21\u001b[0m     \u001b[38;5;28;01mwhile\u001b[39;00m ((Tabl\u001b[38;5;241m.\u001b[39miloc[row_offset\u001b[38;5;241m-\u001b[39m\u001b[38;5;241m1\u001b[39m,col_offset] \u001b[38;5;241m!=\u001b[39m year) \u001b[38;5;129;01mand\u001b[39;00m (col_offset\u001b[38;5;241m<\u001b[39m\u001b[38;5;241m=\u001b[39m \u001b[38;5;241m5\u001b[39m)):\n",
      "\u001b[1;31mNameError\u001b[0m: name 'Original_years' is not defined"
     ]
    }
   ],
   "source": [
    "for sheetname, list_feature in zip(sheet_names[1:], List_Features):\n",
    "    \n",
    "    New_table(sheetname,list_feature,list_feature[2][:11]+'.csv')"
   ]
  },
  {
   "cell_type": "code",
   "execution_count": 65,
   "id": "87b2180d-ca91-41aa-9ef7-7e731f89a1d9",
   "metadata": {},
   "outputs": [],
   "source": [
    "#Original_years = Table.iloc[2].dropna().unique().tolist()\n",
    "#print(Original_years) \n",
    "\n",
    "#years = [2018,2019,2020,2021,2022]\n",
    "\n",
    "#Table = Table.fillna(-).astype(int)\n",
    "#mapping_dic = dict(zip(Original_years, years))\n",
    "#NewTable= Table.replace(mapping_dic)\n",
    "\n",
    "#NewTable\n"
   ]
  },
  {
   "cell_type": "code",
   "execution_count": null,
   "id": "388c4c7d-b5f9-4d45-9ef4-ad01c25aaf5e",
   "metadata": {},
   "outputs": [],
   "source": []
  },
  {
   "cell_type": "code",
   "execution_count": 123,
   "id": "00c2d043-b386-4bce-ae10-735f49ccd915",
   "metadata": {},
   "outputs": [
    {
     "data": {
      "text/html": [
       "<div>\n",
       "<style scoped>\n",
       "    .dataframe tbody tr th:only-of-type {\n",
       "        vertical-align: middle;\n",
       "    }\n",
       "\n",
       "    .dataframe tbody tr th {\n",
       "        vertical-align: top;\n",
       "    }\n",
       "\n",
       "    .dataframe thead th {\n",
       "        text-align: right;\n",
       "    }\n",
       "</style>\n",
       "<table border=\"1\" class=\"dataframe\">\n",
       "  <thead>\n",
       "    <tr style=\"text-align: right;\">\n",
       "      <th></th>\n",
       "      <th>Region</th>\n",
       "      <th>Year</th>\n",
       "      <th>Table A.2a  Real terms (1): Total identifiable expenditure on services</th>\n",
       "    </tr>\n",
       "  </thead>\n",
       "  <tbody>\n",
       "    <tr>\n",
       "      <th>0</th>\n",
       "      <td>North East</td>\n",
       "      <td>2017</td>\n",
       "      <td>28447.0</td>\n",
       "    </tr>\n",
       "    <tr>\n",
       "      <th>1</th>\n",
       "      <td>North East</td>\n",
       "      <td>2018</td>\n",
       "      <td>28863.0</td>\n",
       "    </tr>\n",
       "    <tr>\n",
       "      <th>2</th>\n",
       "      <td>North East</td>\n",
       "      <td>2019</td>\n",
       "      <td>29017.0</td>\n",
       "    </tr>\n",
       "    <tr>\n",
       "      <th>3</th>\n",
       "      <td>North East</td>\n",
       "      <td>2020</td>\n",
       "      <td>35386.0</td>\n",
       "    </tr>\n",
       "    <tr>\n",
       "      <th>4</th>\n",
       "      <td>North East</td>\n",
       "      <td>2021</td>\n",
       "      <td>31838.0</td>\n",
       "    </tr>\n",
       "  </tbody>\n",
       "</table>\n",
       "</div>"
      ],
      "text/plain": [
       "       Region  Year  \\\n",
       "0  North East  2017   \n",
       "1  North East  2018   \n",
       "2  North East  2019   \n",
       "3  North East  2020   \n",
       "4  North East  2021   \n",
       "\n",
       "   Table A.2a  Real terms (1): Total identifiable expenditure on services  \n",
       "0                                            28447.0                       \n",
       "1                                            28863.0                       \n",
       "2                                            29017.0                       \n",
       "3                                            35386.0                       \n",
       "4                                            31838.0                       "
      ]
     },
     "execution_count": 123,
     "metadata": {},
     "output_type": "execute_result"
    }
   ],
   "source": [
    "#saving\n",
    "list_feature[2][:11]+'.csv'\n",
    "dataframes = []\n",
    "\n",
    "for list_feature in List_Features:\n",
    "     file  = list_feature[2][:11]+'.csv'\n",
    "     #print(file,list_feature[2])\n",
    "     df=pd.read_csv(file, index_col=0) \n",
    "     #df=pd.read_csv(file) \n",
    "     dataframes.append(df) \n",
    "    \n",
    "dataframes[2].head()\n"
   ]
  },
  {
   "cell_type": "code",
   "execution_count": 124,
   "id": "7bfdb1d5-4f3e-46d1-8990-9dfede313e5c",
   "metadata": {},
   "outputs": [],
   "source": [
    "for i in range(1,len(dataframes),1):\n",
    "   \n",
    "    \n",
    "    dataframes[0] = pd.merge(dataframes[0],dataframes[i], how = 'left', suffixes=('_x'+str(i), '_y'+str(i)), on=['Region','Year'])\n",
    "\n"
   ]
  },
  {
   "cell_type": "code",
   "execution_count": 131,
   "id": "b9901476-8e4e-4bb5-929b-a635c5688d67",
   "metadata": {},
   "outputs": [],
   "source": [
    " dataframes[0]\n",
    " dataframes[0].to_csv('Totalexpenditure2017.csv', index=True)\n"
   ]
  },
  {
   "cell_type": "code",
   "execution_count": 132,
   "id": "a9b8799d-144c-4bee-9c3c-f92a24a93476",
   "metadata": {},
   "outputs": [
    {
     "name": "stdout",
     "output_type": "stream",
     "text": [
      "Updated directory: E:\\UWE\\Master_Project\\2017\n"
     ]
    }
   ],
   "source": [
    "#just 2017\n",
    "\n",
    "\n",
    "#reading file\n",
    "print (\"Updated directory:\" , os.getcwd())\n",
    "df2017= pd.read_csv(\"./Totalexpenditure2017.csv\" ,  index_col=0)\n",
    "\n",
    "df2017=pd.DataFrame(df2017)\n",
    "df2017=df2017[df2017[\"Year\"]== 2017]  \n",
    " \n",
    "df2017.to_csv('Totalexpenditure2017.csv',index=True)"
   ]
  },
  {
   "cell_type": "code",
   "execution_count": 133,
   "id": "b396a06b-748f-4ee9-867e-b02bbf793a6c",
   "metadata": {},
   "outputs": [
    {
     "name": "stdout",
     "output_type": "stream",
     "text": [
      "(105, 35)\n",
      "(21, 35)\n"
     ]
    }
   ],
   "source": [
    "#saving\n",
    "df1=pd.read_csv('Totalexpenditure.csv', index_col=0) \n",
    "dataframes1 = [df1,df2017]\n",
    "    \n",
    "print(dataframes1[0].shape)\n",
    "print(dataframes1[1].shape)"
   ]
  },
  {
   "cell_type": "code",
   "execution_count": 134,
   "id": "4b3a20b5-1933-4d3f-8cb7-7acadbffa5a3",
   "metadata": {},
   "outputs": [],
   "source": [
    "#dataframes1[0] = pd.merge(dataframes[0],dataframes[1], how = 'left', suffixes=('_x'+str(i), '_y'+str(i)), on=['Region','Year'])\n",
    "\n",
    "\n",
    "# Concatenate the DataFrames\n",
    "combined_df = pd.concat([df1, df2017], ignore_index=True)\n"
   ]
  },
  {
   "cell_type": "code",
   "execution_count": 136,
   "id": "5bc4cef4-8099-4c0b-b951-d42276e1a254",
   "metadata": {},
   "outputs": [],
   "source": [
    "combined_df.to_csv('Totalexpenditurecombined.csv',index=True)"
   ]
  }
 ],
 "metadata": {
  "kernelspec": {
   "display_name": "Python 3 (ipykernel)",
   "language": "python",
   "name": "python3"
  },
  "language_info": {
   "codemirror_mode": {
    "name": "ipython",
    "version": 3
   },
   "file_extension": ".py",
   "mimetype": "text/x-python",
   "name": "python",
   "nbconvert_exporter": "python",
   "pygments_lexer": "ipython3",
   "version": "3.11.7"
  }
 },
 "nbformat": 4,
 "nbformat_minor": 5
}
