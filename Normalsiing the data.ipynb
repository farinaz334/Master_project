{
 "cells": [
  {
   "cell_type": "code",
   "execution_count": 1,
   "id": "fcb466fc-c31f-45ae-a1c6-c8682f469694",
   "metadata": {},
   "outputs": [],
   "source": [
    "# import library\n",
    "import warnings\n",
    "import pandas as pd\n",
    "\n",
    "warnings.filterwarnings(\"ignore\", category=UserWarning, message=\"Conditional Formatting extension is not supported and will be removed\")\n",
    "\n",
    "import numpy as np\n",
    "\n",
    "import matplotlib.pyplot as plt\n",
    "import seaborn as sns\n",
    "import math"
   ]
  },
  {
   "cell_type": "code",
   "execution_count": 2,
   "id": "1e3b847b-3d47-4f52-b9df-b041ff6af299",
   "metadata": {},
   "outputs": [],
   "source": [
    "#reading file\n",
    "#excel_file= pd.ExcelFile(\"bpe_2023_detailed_tables.xlsx\")\n",
    "#sheet_names=excel_file.sheet_names\n",
    "#print(sheet_names)"
   ]
  },
  {
   "cell_type": "code",
   "execution_count": 3,
   "id": "7ca9b1c0-d231-4dc4-a73c-5b0100ec447c",
   "metadata": {},
   "outputs": [],
   "source": [
    "#search_text = \"A Agriculture, Forestry and Fishing\"\n",
    "\n",
    "# Read the first sheet of excel\n",
    "#Table_11=pd.read_excel(excel_file,sheet_name='Table 11')\n",
    "\n",
    "\n",
    "# Find label of the first row where the value 'A Agriculture, Forestry and Fishing' is found (within column 0)\n",
    "#row_label = (Table_11.iloc[:, 0] == 'A Agriculture, Forestry and Fishing').idxmax()\n",
    "\n",
    "# Drop all rows above the row with 'Agriculture....'\n",
    "#Table_11 = Table_11.loc[row_label:, :]"
   ]
  },
  {
   "cell_type": "code",
   "execution_count": 4,
   "id": "120df295-d7cd-4869-9e1d-bff4521f57b2",
   "metadata": {
    "scrolled": true
   },
   "outputs": [],
   "source": [
    "#Table_11.head(10)"
   ]
  },
  {
   "cell_type": "code",
   "execution_count": 5,
   "id": "e311de7b-76d8-4b0b-8f38-ac3ecd4d9e9c",
   "metadata": {},
   "outputs": [],
   "source": [
    "#Creating Dataframe\n",
    "\n",
    "regions = { \"North East\": 'Table 11',\n",
    "    \"North West\": 'Table 12',\n",
    "    \"Yorkshire and the Humber\": 'Table 13',\n",
    "    \"East Midlands\": 'Table 14',\n",
    "    \"West Midlands\": 'Table 15',\n",
    "    \"East of England\": 'Table 16',\n",
    "    \"London\": 'Table 17',\n",
    "    \"South East\": 'Table 18',\n",
    "    \"South West\": 'Table 19',\n",
    "    \"England\": 'Table 20',\n",
    "    \"Wales\": 'Table 21',\n",
    "    \"Scotland\": 'Table 22',\n",
    "    \"Northern Ireland\": 'Table 23'}\n",
    "\n",
    "file_names = [ #'bpe_2015_detailed_tables.xlsx',\n",
    "              #'bpe_2016_detailed_tables.xlsx',\n",
    "              'BPE_2017_detailed_tables.xlsx', \n",
    "              'OFFICIAL_SENSITIVE_-_BPE_2018_-_detailed_tables.xlsx',\n",
    "              'BPE__2019_detailed_tables.xlsx', \n",
    "              'BPE__2020_detailed_tables.xlsx',\n",
    "              'BPE__2021_detailed_tables.xlsx',\n",
    "              '2022_BPE_detailed_tables.xlsx',\n",
    "              'bpe_2023_detailed_tables.xlsx']\n",
    "years = [2017,2018,2019,2020,2021,2022,2023]\n",
    "              \n",
    "\n",
    "\n",
    "Features = [\"Year\",\"Region\",\"Industry\",\"Employee _size\",\"Employment_number\",\"Business_number\",\"Turnover\"]\n",
    "\n",
    "industries = [\n",
    "\"A Agriculture, Forestry and Fishing\"\n",
    ",\"B, D and E Mining and Quarrying; Electricity, Gas, Steam and Air Conditioning Supply; Water Supply; Sewerage, Waste Management and Remediation Activities\" \n",
    ",\"C Manufacturing\"\n",
    ",\"F Construction\"\n",
    ",\"G Wholesale and Retail Trade; Repair of Motor Vehicles and Motorcycles\"\n",
    ",\"H Transportation and Storage\"\n",
    ",\"I Accommodation and Food Service Activities\"\n",
    ",\"J Information and Communication,K: Financial and Insurance Activities\"\n",
    ",\"K Financial and Insurance Activities\"\n",
    ",\"L Real Estate Activities\"\n",
    ",\"M Professional, Scientific and Technical Activities\"\n",
    ",\"N Administrative and Support Service Activities\"\n",
    ",\"P Education\"\n",
    ",\"Q Human Health and Social Work Activities\"\n",
    ",\"R Arts, Entertainment and Recreation\"\n",
    ",\"S Other Service Activities\"\n",
    " ]\n",
    "\n",
    "# to save normalised data\n",
    "empty_df = pd.DataFrame(columns=Features)\n",
    "\n",
    "\n"
   ]
  },
  {
   "cell_type": "code",
   "execution_count": 6,
   "id": "69aac772-4c70-409a-a0a1-e19b3a0ee58f",
   "metadata": {},
   "outputs": [],
   "source": [
    "#convert string to int, \n",
    "# @s: the string that we want to cast\n",
    "# @defult: if the string was not convertable, return this number\n",
    "\n",
    "def safe_parse_int(s, default=0):\n",
    "    try:\n",
    "        return int(s)\n",
    "    except ValueError:\n",
    "        return default"
   ]
  },
  {
   "cell_type": "code",
   "execution_count": 7,
   "id": "36f2ddae-0107-4a10-a429-2f6401a19636",
   "metadata": {},
   "outputs": [],
   "source": [
    "# read an indusrty from a excel file for a give year and region\n",
    "\n",
    "def read_industry(excel_file, industry,year,region,empty_df):\n",
    "\n",
    "    table_name = regions[region]  \n",
    "    # Read the first sheet of excel\n",
    "    my_table =pd.read_excel(excel_file,sheet_name=table_name)\n",
    "    row_label = (my_table.iloc[:, 0] == industry).idxmax()\n",
    "    \n",
    "    # Drop all rows above the row with 'Agriculture....'\n",
    "    my_table = my_table.loc[row_label:, :]\n",
    "    # find first row that contain information\n",
    "    offset = 0;\n",
    "    while ( safe_parse_int(my_table.iloc[offset,0]) != 1):\n",
    "        offset = offset +1\n",
    "        \n",
    "    # read 10 records\n",
    "    for i in range(10):\n",
    "        new_row = {\"Year\" : year,\"Region\": region, \"Industry\" : industry[0],\n",
    "                   \"Employee _size\":my_table.iloc[offset+i,0]\n",
    "                   ,\"Employment_number\": my_table.iloc[offset+i,4],\n",
    "                   \"Business_number\":my_table.iloc[offset+i,2],\n",
    "                   \"Turnover\":my_table.iloc[offset+i,6]}\n",
    "        empty_df =pd.concat([empty_df, pd.DataFrame([new_row])], ignore_index=True)\n",
    "    \n",
    "    return empty_df\n",
    "\n"
   ]
  },
  {
   "cell_type": "code",
   "execution_count": 8,
   "id": "5e563750-847c-4c49-b926-cea912116346",
   "metadata": {},
   "outputs": [],
   "source": [
    "# read all files \n",
    "empty_df = pd.DataFrame(columns=Features)\n",
    "for file,year in zip(file_names, years):\n",
    "    excel_file= pd.ExcelFile(file)\n",
    "    for region in regions.keys():\n",
    "        for industry in industries:\n",
    "            empty_df=  read_industry(excel_file, industry,year,region,empty_df)\n"
   ]
  },
  {
   "cell_type": "code",
   "execution_count": 10,
   "id": "bcfec82a-0426-4be6-a53a-570e96c25845",
   "metadata": {},
   "outputs": [],
   "source": [
    "# save the out files\n",
    "empty_df.to_csv('Turnover.csv')"
   ]
  },
  {
   "cell_type": "code",
   "execution_count": null,
   "id": "ad6a136e-aa41-4499-aa71-b94c5e4afa90",
   "metadata": {},
   "outputs": [],
   "source": []
  }
 ],
 "metadata": {
  "kernelspec": {
   "display_name": "Python 3 (ipykernel)",
   "language": "python",
   "name": "python3"
  },
  "language_info": {
   "codemirror_mode": {
    "name": "ipython",
    "version": 3
   },
   "file_extension": ".py",
   "mimetype": "text/x-python",
   "name": "python",
   "nbconvert_exporter": "python",
   "pygments_lexer": "ipython3",
   "version": "3.11.7"
  }
 },
 "nbformat": 4,
 "nbformat_minor": 5
}
