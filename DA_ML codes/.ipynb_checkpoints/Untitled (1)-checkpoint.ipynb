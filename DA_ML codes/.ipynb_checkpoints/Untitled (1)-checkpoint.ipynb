{
 "cells": [
  {
   "cell_type": "code",
   "execution_count": 9,
   "id": "c02c1e82-42e6-40ca-91a4-c942b987f0e0",
   "metadata": {},
   "outputs": [],
   "source": [
    "import numpy as np"
   ]
  },
  {
   "cell_type": "code",
   "execution_count": 10,
   "id": "9435a1da-9e8e-4798-bf49-bea9b5891c66",
   "metadata": {},
   "outputs": [],
   "source": [
    "file_name = \"C:\\\\Users\\\\Tanhaei\\\\Desktop\\\\new.txt\""
   ]
  },
  {
   "cell_type": "code",
   "execution_count": 11,
   "id": "40e4dfbb-6f0d-4cba-a5bb-94b11c367235",
   "metadata": {},
   "outputs": [],
   "source": [
    "with open(file_name) as f:\n",
    "    lines = f.readlines()\n",
    " \n"
   ]
  },
  {
   "cell_type": "code",
   "execution_count": 12,
   "id": "286cfb85-6fc8-498b-8abd-f57c887c98bf",
   "metadata": {},
   "outputs": [
    {
     "data": {
      "text/plain": [
       "['KNN',\n",
       " '42',\n",
       " 'Linear_Regression',\n",
       " '2890.3242703851647',\n",
       " '49.3724868844038',\n",
       " '63712161.28694139',\n",
       " '1939962.047524835',\n",
       " '0.8478721193991948',\n",
       " '0.007069427153916134',\n",
       " 'train',\n",
       " '2910.9210256577344',\n",
       " '222.2873502150475',\n",
       " '65449583.45168023',\n",
       " '17568529.69324636',\n",
       " '0.812814860798907',\n",
       " '0.08791571686156459',\n",
       " 'valid',\n",
       " '2620.0461878978285',\n",
       " '43.0775528679847',\n",
       " '38349594.47323994',\n",
       " '829080.7288915061',\n",
       " '0.9012848253355312',\n",
       " '0.0021341255386827926',\n",
       " 'test\\n']"
      ]
     },
     "execution_count": 12,
     "metadata": {},
     "output_type": "execute_result"
    }
   ],
   "source": [
    "lines[0].split(\" \")"
   ]
  },
  {
   "cell_type": "code",
   "execution_count": 13,
   "id": "2bddc462-3698-4d0d-ab9a-9ae8c57d481c",
   "metadata": {},
   "outputs": [],
   "source": [
    "Res = []\n",
    "for line in lines:\n",
    "   Res.append([line.split(\" \")[0],line.split(\" \")[1],line.split(\" \")[2],  line.split(\" \")[3], line.split(\" \")[10], line.split(\" \")[17]])\n",
    "res = np.array(Res)"
   ]
  },
  {
   "cell_type": "code",
   "execution_count": 14,
   "id": "d9551575-a028-40a9-a14d-8290e0cdf2ce",
   "metadata": {},
   "outputs": [
    {
     "data": {
      "text/plain": [
       "(581, 6)"
      ]
     },
     "execution_count": 14,
     "metadata": {},
     "output_type": "execute_result"
    }
   ],
   "source": [
    "res.shape"
   ]
  },
  {
   "cell_type": "code",
   "execution_count": 15,
   "id": "3b040e63-574f-43e4-9964-d91cd78deb98",
   "metadata": {},
   "outputs": [
    {
     "data": {
      "text/plain": [
       "array(['KNN', '42', 'Linear_Regression', '2890.3242703851647',\n",
       "       '2910.9210256577344', '2620.0461878978285'], dtype='<U27')"
      ]
     },
     "execution_count": 15,
     "metadata": {},
     "output_type": "execute_result"
    }
   ],
   "source": [
    "res[0]"
   ]
  },
  {
   "cell_type": "code",
   "execution_count": 17,
   "id": "df1f412f-ffa0-48df-ba75-17c133485162",
   "metadata": {},
   "outputs": [
    {
     "name": "stdout",
     "output_type": "stream",
     "text": [
      "['EM' '8' 'Linear_Regression' '2663.6381278165463' '2672.215370388342'\n",
      " '2404.9503363968743']\n",
      "['KNN' '41' 'Gradient_Boosting_Regressor' '1137.4064962810874'\n",
      " '1334.1663074074422' '1260.8041967145796']\n",
      "['KNN' '11' 'Random_Forest_Regressor' '294.13690773057203'\n",
      " '793.738745966419' '744.4118762031197']\n",
      "['EM' '4' 'SVR' '4503.486818342031' '4504.190423797989'\n",
      " '4448.665052217738']\n",
      "['KNN' '17' 'MLP_Regressor' '1630.370977521337' '1712.8312182188315'\n",
      " '1607.909334969217']\n"
     ]
    }
   ],
   "source": [
    "best_rows = {}\n",
    "\n",
    "# Iterate through each row\n",
    "for row in res:\n",
    "    #print(row)\n",
    "    model = row[2]\n",
    "    valid_error = float(row[4])\n",
    "    \n",
    "    # Check if the model is already in the dictionary\n",
    "    if model not in best_rows:\n",
    "        best_rows[model] = row\n",
    "    else:\n",
    "        # If current row has a lower validation error, update the dictionary\n",
    "        if valid_error < float(best_rows[model][4]):\n",
    "            best_rows[model] = row\n",
    "\n",
    "# Convert the dictionary to a list of best rows\n",
    "best_rows_list = list(best_rows.values())\n",
    "\n",
    "# Print the best rows\n",
    "for row in best_rows_list:\n",
    "    \n",
    "    print(row)"
   ]
  },
  {
   "cell_type": "code",
   "execution_count": null,
   "id": "9b7aabae-cf5c-4ecf-9723-d17f3cffaba4",
   "metadata": {},
   "outputs": [],
   "source": []
  }
 ],
 "metadata": {
  "kernelspec": {
   "display_name": "Python 3 (ipykernel)",
   "language": "python",
   "name": "python3"
  },
  "language_info": {
   "codemirror_mode": {
    "name": "ipython",
    "version": 3
   },
   "file_extension": ".py",
   "mimetype": "text/x-python",
   "name": "python",
   "nbconvert_exporter": "python",
   "pygments_lexer": "ipython3",
   "version": "3.11.7"
  }
 },
 "nbformat": 4,
 "nbformat_minor": 5
}
