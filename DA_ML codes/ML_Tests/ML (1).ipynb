{
 "cells": [
  {
   "cell_type": "markdown",
   "id": "cf15f57f-e5f5-4a38-beca-8714c12a2ce3",
   "metadata": {},
   "source": [
    "# Applying ML models on the dataset"
   ]
  },
  {
   "cell_type": "code",
   "execution_count": null,
   "id": "501841d8-142f-4044-92fe-a77f967d67e3",
   "metadata": {},
   "outputs": [],
   "source": [
    "#import libraries\n",
    "import warnings\n",
    "\n",
    "def function_that_warns():\n",
    "    warnings.warn(\"This is a warning message\", UserWarning)\n",
    "\n",
    "with warnings.catch_warnings():\n",
    "    warnings.simplefilter(\"ignore\")\n",
    "    function_that_warns()  # This will not show a warning\n",
    "import numpy as np\n",
    "import pandas as pd\n",
    "import matplotlib.pyplot as plt \n",
    "from sklearn.model_selection import train_test_split\n",
    "from sklearn.model_selection import KFold\n",
    "from sklearn.linear_model import LinearRegression,Ridge,Lasso\n",
    "from sklearn.ensemble import RandomForestRegressor\n",
    "from sklearn.svm import SVR\n",
    "from sklearn.ensemble import GradientBoostingRegressor\n",
    "from sklearn.preprocessing import StandardScaler\n",
    "from sklearn.metrics import mean_absolute_error, mean_squared_error, r2_score\n",
    "import lime\n",
    "import lime.lime_tabular\n",
    "import shap\n",
    "from sklearn.decomposition import PCA\n",
    "from sklearn.neural_network import MLPRegressor\n",
    "from sklearn.svm import SVR\n",
    "from scipy import stats\n",
    "import seaborn as sns\n",
    "import matplotlib.pyplot as plt\n"
   ]
  },
  {
   "cell_type": "markdown",
   "id": "2b38633a-b916-4a47-91d1-a706ce81cf1a",
   "metadata": {},
   "source": [
    "# Functions"
   ]
  },
  {
   "cell_type": "code",
   "execution_count": null,
   "id": "e930127f-421e-4f65-a2a8-cef9f0986f13",
   "metadata": {},
   "outputs": [],
   "source": [
    "def draw_histograms(arr, variables, n_rows, n_cols):\n",
    "    df = pd.DataFrame(arr, columns =variables)\n",
    "    fig=plt.figure(figsize=(20, 20))\n",
    "    for i, var_name in enumerate(variables):\n",
    "        ax=fig.add_subplot(n_rows,n_cols,i+1)\n",
    "        df[var_name].hist(bins=10,ax=ax)\n",
    "        ax.set_title(var_name+\" Distribution\")\n",
    "    fig.tight_layout()  # Improves appearance a bit.\n",
    "    plt.show()"
   ]
  },
  {
   "cell_type": "code",
   "execution_count": null,
   "id": "b6e11b7d-2c8c-4080-8854-1af7f0b4cbb0",
   "metadata": {},
   "outputs": [],
   "source": [
    "# normalsie the input base on the norm parametrs, if norm is none, no normalisation will happen\n",
    "def normalisation(X_train,X_test, norm ):\n",
    "    if norm != None:\n",
    "        scaler1 = norm\n",
    "        X_train  =  scaler1.fit_transform(X_train)\n",
    "        X_test  =  scaler1.transform(X_test)\n",
    "    return X_train, X_test"
   ]
  },
  {
   "cell_type": "code",
   "execution_count": null,
   "id": "4a6ef0f4-ca19-4b0b-9d81-8fb7bd408a72",
   "metadata": {},
   "outputs": [],
   "source": [
    "def remove_outliers_zscore(X,y, threshold=3):\n",
    "    z_scores = np.abs(stats.zscore(X))\n",
    "    mask = (z_scores < threshold).all(axis=1)\n",
    "    X = X[mask]\n",
    "    y = y[mask]\n",
    "    print(X.shape)\n",
    "    return  X,y\n",
    "def read_csv(path, target , remove_outliers = True, log = True  ):\n",
    "    df = pd.read_csv(path)\n",
    "    df['Region'] = pd.factorize( df['Region'] )[0]\n",
    "    df['Industry'] = pd.factorize( df['Industry'] )[0]\n",
    "    df['Employee _size'] = pd.factorize( df['Employee _size'] )[0]\n",
    "\n",
    "    \n",
    "    y = df[target].to_numpy()\n",
    "    X = df.drop(target, axis=1).to_numpy()\n",
    "    if remove_outliers:\n",
    "        X , y = remove_outliers_zscore (X,y)\n",
    "    if log:\n",
    "      \n",
    "        X[:,5:] = np.log1p(X[:,5:])\n",
    "    \n",
    "    X_train, X_test,y_train, y_test = train_test_split(X,y , \n",
    "                                   random_state=10,  \n",
    "                                   test_size=0.2,  \n",
    "                                   shuffle=True)\n",
    "    X_train,X_test = normalisation(X_train,X_test, StandardScaler())\n",
    "       \n",
    "    return X_train, X_test,y_train, y_test, X,y\n",
    "\n",
    "\n"
   ]
  },
  {
   "cell_type": "code",
   "execution_count": null,
   "id": "861c95a3-70de-4b90-a929-fac880f37a2f",
   "metadata": {},
   "outputs": [],
   "source": [
    "# calculate different performance metric for the model clf\n",
    "def clf_score(clf, X_test, y_test):\n",
    "    y_pred = clf.predict(X_test)\n",
    "    ma = mean_absolute_error(y_test,y_pred)\n",
    "    ms = mean_squared_error(y_test,y_pred)\n",
    "    r2 = r2_score(y_test,y_pred)   \n",
    "    return [ma,ms,r2]"
   ]
  },
  {
   "cell_type": "code",
   "execution_count": null,
   "id": "08568310-4548-46b5-a881-e76af84935e5",
   "metadata": {},
   "outputs": [],
   "source": [
    "# calculate mean and std for kfold results\n",
    "def show_statics(arr,type):  \n",
    "   \n",
    "    ma = np.mean([ x[0] for x in arr]), np.std([ x[0] for x in arr])\n",
    "    ms = np.mean([ x[1] for x in arr]), np.std([ x[1] for x in arr])\n",
    "    r2 = np.mean([ x[2] for x in arr]), np.std([ x[2] for x in arr])\n",
    "    \n",
    "    return [ma,ms,r2,type ] \n",
    "    \n",
    "# convert input array into a string \n",
    "def make_sring(a):\n",
    "    return  a[3]+' '+str(round(a[0][0],2))+' +-' + str(round(a[0][1],2))+ ' '+ str(round(a[1][0],0))+' +-' + str(round(a[1][1],0))+ ' '+str(round(a[2][0]*100,2))+' +-' + str(round(a[2][1]*100,2))+ ' '\n",
    " "
   ]
  },
  {
   "cell_type": "code",
   "execution_count": null,
   "id": "d556d462-f98d-4129-b38f-52a86cbee8ec",
   "metadata": {},
   "outputs": [],
   "source": [
    "# train a model and \n",
    "def train_clf(clf, X_tr,y_tr,X_test, y_test,   print_ind = False, to_string = True):\n",
    "    metrics_train = []\n",
    "    metrics_valid = []\n",
    "    metrics_test = []\n",
    "    for i, (train_index, valid_index) in enumerate(kf.split(X_tr)):\n",
    "             \n",
    "        X_train = X_tr[train_index]\n",
    "        y_train = y_tr[train_index]\n",
    "        X_valid = X_tr[valid_index]\n",
    "        y_valid = y_tr[valid_index]\n",
    "        \n",
    "        \n",
    "       \n",
    "        \n",
    "        clf.fit(X_train, y_train.ravel())\n",
    "\n",
    "        res = clf_score(clf,X_train,y_train)\n",
    "        if (print_ind): print('Train: ', res)\n",
    "        metrics_train.append(res)\n",
    "        \n",
    "        res = clf_score(clf,X_valid,y_valid)\n",
    "        if (print_ind): print('Valid: ', res)\n",
    "        metrics_valid.append(res)\n",
    "        \n",
    "        res = clf_score(clf,X_test,y_test)\n",
    "        if (print_ind): print('Test: ', res)\n",
    "        metrics_test.append(res)\n",
    "    #print(show_statics( Accs))\n",
    "    if to_string :\n",
    "        return make_sring(show_statics( metrics_train,'train')), make_sring(show_statics( metrics_valid,'valid'))  , make_sring(show_statics( metrics_test,'test'))  \n",
    "    else:\n",
    "        return (show_statics( metrics_train,'train')), (show_statics( metrics_valid,'valid'))  , (show_statics( metrics_test,'test'))  \n"
   ]
  },
  {
   "cell_type": "code",
   "execution_count": null,
   "id": "021b4dd6-39d9-4556-896b-a4ee76fd52ba",
   "metadata": {},
   "outputs": [],
   "source": [
    "def apply_model(model,X_train,y_train,X_test, y_test, to_string = True ):\n",
    "       \n",
    "    ma_t,ms_t,r2_t = train_clf(model,X_train,y_train.reshape(-1, 1),X_test, y_test,False, to_string )\n",
    "     \n",
    "    return ma_t,ms_t,r2_t"
   ]
  },
  {
   "cell_type": "markdown",
   "id": "22453fa7-bab5-411b-8204-1e52756b11b0",
   "metadata": {},
   "source": [
    "## Prepration"
   ]
  },
  {
   "cell_type": "markdown",
   "id": "946f8bec-7591-465f-8ea9-2ce9a59ed365",
   "metadata": {},
   "source": [
    "### Parameters"
   ]
  },
  {
   "cell_type": "code",
   "execution_count": null,
   "id": "6e6fae80-a080-4d58-8d1b-4cf4e34d80b9",
   "metadata": {},
   "outputs": [],
   "source": [
    "#reading files \n",
    "imputed_file_knn = \"Cleaned_data_knn_imputed_df.csv\"\n",
    "imputed_file_em = \"Cleaned_data_em_imputed_df.csv\"\n",
    "imputed_file_ct = \"Cleaned_data_imputed_df.csv\" \n",
    "     \n",
    "df_features =  pd.read_csv(imputed_file_knn).columns\n",
    "feature_names = feature_names.to_list().remove('Turnover')\n",
    "df_target = \"Turnover\"\n",
    "kf = KFold(n_splits=10, random_state=0, shuffle = True)\n",
    "norm =  StandardScaler()"
   ]
  },
  {
   "cell_type": "code",
   "execution_count": null,
   "id": "d43ff18d-70e5-471e-9aa2-2482490471f4",
   "metadata": {},
   "outputs": [],
   "source": [
    "def read_csv(path, target , remove_outliers = True, log = True  ):\n",
    "    df = pd.read_csv(path)\n",
    "    df.head()\n",
    "    df['Region'] = pd.factorize( df['Region'] )[0]\n",
    "    df['Industry'] = pd.factorize( df['Industry'] )[0]\n",
    "    df['Employee _size'] = pd.factorize( df['Employee _size'] )[0]\n",
    "\n",
    "    \n",
    "    y = df[target].to_numpy()\n",
    "    X = df.drop(target, axis=1).to_numpy()\n",
    "    if remove_outliers:\n",
    "        X , y = remove_outliers_zscore (X,y)\n",
    "    if log:\n",
    "      for i in range(5,X.shape[1],1):\n",
    "        min_value = np.min(X[:,i],0) \n",
    "        if (min_value< 0):\n",
    "            X[:,i] = X[:,i] + abs(min_value) + 0.0000001\n",
    "        \n",
    "        X[:,i] = np.log1p(X[:,i])\n",
    "    \n",
    "    \n",
    "    X_train, X_test,y_train, y_test = train_test_split(X,y , \n",
    "                                   random_state=10,  \n",
    "                                   test_size=0.2,  \n",
    "                                   shuffle=True)\n",
    "    #X_train,X_test = normalisation(X_train,X_test, StandardScaler())\n",
    "       \n",
    "    return X_train, X_test,y_train, y_test, X,y\n"
   ]
  },
  {
   "cell_type": "code",
   "execution_count": null,
   "id": "85333ae2-37ab-47f6-aa4d-d07ac49051e5",
   "metadata": {},
   "outputs": [],
   "source": []
  },
  {
   "cell_type": "markdown",
   "id": "c0a58c45-988d-4944-ab2b-90bba62a7225",
   "metadata": {},
   "source": [
    "### Reading files"
   ]
  },
  {
   "cell_type": "code",
   "execution_count": null,
   "id": "b8d7b241-dd35-4be6-b868-3f344ec2deec",
   "metadata": {},
   "outputs": [],
   "source": [
    "X_train_knn ,X_test_knn , y_train_knn ,y_test_knn,X_knn,y_knn  = read_csv(imputed_file_knn,df_target, remove_outliers = False, log= False)\n",
    "X_train_em ,X_test_em , y_train_em ,y_test_em,X_em,y_em = read_csv(imputed_file_em,df_target, remove_outliers = False, log= False)\n",
    "X_train_ct ,X_test_ct , y_train_ct ,y_test_ct,X_ct,y_ct= read_csv(imputed_file_ct,df_target, remove_outliers = False, log= False)"
   ]
  },
  {
   "cell_type": "markdown",
   "id": "1afdb458-2b0d-4887-8db9-9c0b8bfc16bc",
   "metadata": {},
   "source": [
    "### Correlation"
   ]
  },
  {
   "cell_type": "code",
   "execution_count": null,
   "id": "d07e8994-c92a-4b9b-91d4-30180916ecfe",
   "metadata": {},
   "outputs": [],
   "source": [
    "#KNN\n",
    "xx = np.concatenate((X_knn,y_knn.reshape(-1,1)), axis = 1)\n",
    "corr_matrix = np.corrcoef(xx, rowvar=False)\n",
    "sns.heatmap(corr_matrix[43:,:], annot=True, cmap='coolwarm')\n",
    "plt.show()\n",
    "data = np.abs( corr_matrix[43:,:43].reshape(-1))\n",
    "indices = np.argpartition(data, -5)[-5:]\n",
    "top_5_values = data[indices]\n",
    "for i,j in zip(df_features[indices].tolist(), top_5_values):\n",
    "    print(i,'\\t\\t',j)"
   ]
  },
  {
   "cell_type": "code",
   "execution_count": null,
   "id": "68c85f91-c1bc-44fa-ba48-bf7b99449abe",
   "metadata": {},
   "outputs": [],
   "source": [
    "#EM\n",
    "xx = np.concatenate((X_em,y_em.reshape(-1,1)), axis = 1)\n",
    "corr_matrix = np.corrcoef(xx, rowvar=False)\n",
    "sns.heatmap(corr_matrix[43:,:], annot=True, cmap='coolwarm')\n",
    "plt.show()\n",
    "data = np.abs( corr_matrix[43:,:43].reshape(-1))\n",
    "indices = np.argpartition(data, -5)[-5:]\n",
    "top_5_values = data[indices]\n",
    "for i,j in zip(df_features[indices].tolist(), top_5_values):\n",
    "    print(i,'\\t\\t',j)"
   ]
  },
  {
   "cell_type": "code",
   "execution_count": null,
   "id": "057c25a7-fbcd-4716-acbf-fdaa103577f9",
   "metadata": {},
   "outputs": [],
   "source": [
    "draw_histograms(xx, df_features, 8, 6)"
   ]
  },
  {
   "cell_type": "markdown",
   "id": "11e03b6f-41ee-4caf-af8a-079d4f2f9021",
   "metadata": {},
   "source": [
    "# Aplying Machine learning model \n"
   ]
  },
  {
   "cell_type": "code",
   "execution_count": null,
   "id": "ed8eeaed-c7fc-483b-8659-9afa62b356a5",
   "metadata": {},
   "outputs": [],
   "source": [
    "models = [\n",
    "          LinearRegression(positive=False),\n",
    "          Ridge(),\n",
    "          GradientBoostingRegressor(),\n",
    "          RandomForestRegressor(), \n",
    "          SVR(), \n",
    "          MLPRegressor( alpha=1e-5, max_iter=5000,hidden_layer_sizes=(16, 1), random_state=1),\n",
    "         ]\n",
    "\n",
    "\n",
    "for model in models:\n",
    "        print(model)\n",
    "        print('KNN : ', apply_model(model, X_train_knn, y_train_knn ,X_test_knn  ,y_test_knn))\n",
    "        print('EM  : ', apply_model(model, X_train_em, y_train_em ,X_test_em  ,y_test_em))\n",
    "        print('CT  : ',apply_model(model, X_train_ct, y_train_ct ,X_test_ct  ,y_test_ct))\n",
    "\n",
    " "
   ]
  },
  {
   "cell_type": "code",
   "execution_count": null,
   "id": "5866e401-1133-457e-a9ab-0c54d9f945cc",
   "metadata": {},
   "outputs": [],
   "source": [
    "\n",
    "\n",
    "model = RandomForestRegressor(n_estimators=100 , max_depth = 4 , min_samples_split = 2)\n",
    "model.fit(X_train_knn, y_train_knn)\n",
    "explainer = lime.lime_tabular.LimeTabularExplainer(X_train_knn, feature_names=df_features, mode='regression')\n",
    "sample_idx = 0\n",
    "explanation = explainer.explain_instance(X_test_knn[sample_idx], model.predict)\n",
    "\n",
    "# Print feature importances\n",
    "print(\"Feature importances (LIME - Regression):\")\n",
    "for feature, importance in explanation.as_list():\n",
    "    print(f\"{feature}: {importance:.4f}\")"
   ]
  },
  {
   "cell_type": "code",
   "execution_count": null,
   "id": "b6a8a25e-88a2-4bcf-a1fc-26836a063f59",
   "metadata": {},
   "outputs": [],
   "source": [
    "explanation.show_in_notebook()\n"
   ]
  },
  {
   "cell_type": "code",
   "execution_count": null,
   "id": "bce0f54f-33b4-4862-8741-b77d12c499ff",
   "metadata": {},
   "outputs": [],
   "source": [
    "explainer = shap.Explainer(model.predict, X_train_knn, feature_names=)\n",
    "shap_values = explainer(X_train_knn)\n",
    "shap.plots.beeswarm(shap_values)\n",
    "\n"
   ]
  },
  {
   "cell_type": "code",
   "execution_count": null,
   "id": "eadc20d1-782c-43c9-a194-508d4d9e3699",
   "metadata": {},
   "outputs": [],
   "source": [
    "shap_values[:, 1:].shape, len(df_features[2:])"
   ]
  },
  {
   "cell_type": "code",
   "execution_count": null,
   "id": "8816c1e6-ab35-4610-a831-b3554b01afea",
   "metadata": {},
   "outputs": [],
   "source": [
    "shap.summary_plot(shap_values,X_train_knn,feature_names=df_features)  "
   ]
  },
  {
   "cell_type": "code",
   "execution_count": null,
   "id": "6c158f94-7f85-40a2-bc1f-a6c062d41b74",
   "metadata": {},
   "outputs": [],
   "source": [
    "len(fn), shap_values.shape"
   ]
  },
  {
   "cell_type": "code",
   "execution_count": null,
   "id": "feed59f7-c221-4fe3-aad6-56df9b530be8",
   "metadata": {},
   "outputs": [],
   "source": [
    "shap_dict = {feature_name: shap_value for feature_name, shap_value in zip(fn, shap_values)}\n",
    "shap_dict"
   ]
  },
  {
   "cell_type": "code",
   "execution_count": null,
   "id": "cae78dee-e810-441b-b779-d552f31bc483",
   "metadata": {},
   "outputs": [],
   "source": [
    "vals = []\n",
    "for k in shap_dict.keys():\n",
    "    vals.append( np.abs(shap_dict[k].values).mean())\n",
    "shap_importance = pd.DataFrame(list(zip(fn, vals)), columns=['col_name', 'feature_importance_vals'])\n",
    "shap_importance.sort_values(by=['feature_importance_vals'], ascending=False)"
   ]
  },
  {
   "cell_type": "code",
   "execution_count": null,
   "id": "411d2552-5e0b-447a-9b39-b3c386331b8c",
   "metadata": {},
   "outputs": [],
   "source": [
    "feature_names = df_features\n",
    "rf_resultX = pd.DataFrame()\n",
    "rf_resultX = pd.concat([rf_resultX, pd.DataFrame([shap_dict])], ignore_index=True)\n",
    "vals = np.abs(rf_resultX.values).mean(0)\n",
    "shap_importance = pd.DataFrame(list(zip(feature_names, vals)), columns=['col_name', 'feature_importance_vals'])\n"
   ]
  },
  {
   "cell_type": "markdown",
   "id": "8593f316-d23a-4094-894d-ed642c75c401",
   "metadata": {},
   "source": [
    "## Fine tuning\n"
   ]
  },
  {
   "cell_type": "code",
   "execution_count": null,
   "id": "52f65473-e55b-4ca8-a7af-bba00f3ed9a0",
   "metadata": {},
   "outputs": [],
   "source": [
    "# LinearRegression\n",
    "fit_intercept = [True, False]\n",
    "positive = [True, False]\n",
    "for f in fit_intercept:\n",
    "    for p in positive:\n",
    "        model_LR = LinearRegression( fit_intercept = f, positive= p )\n",
    "        print(model_LR)\n",
    "        print('KNN : ',apply_model(model_LR, X_train_knn, y_train_knn ,X_test_knn  ,y_test_knn))\n",
    "        print('EM  : ', apply_model(model_LR, X_train_em, y_train_em ,X_test_em  ,y_test_em)) \n"
   ]
  },
  {
   "cell_type": "code",
   "execution_count": null,
   "id": "ce8d9b04-99ba-43b5-a327-bd3ebd61b735",
   "metadata": {},
   "outputs": [],
   "source": [
    "# RIDGE\n",
    "alpha = [0,0.75,1.5,2.25,3,3.75,4.5,5.25,6]\n",
    "max_iter = [7500,10000,12500,15000]\n",
    "solver = ['auto', 'svd', 'cholesky', 'lsqr', 'sparse_cg', 'sag', 'saga']\n",
    "\n",
    "for a in alpha:\n",
    "    for m in max_iter:\n",
    "        for s in solver:\n",
    "            model_ridge =  Ridge(alpha = a, solver = s, max_iter = m)\n",
    "            print(model_ridge)\n",
    "            print('KNN : ',apply_model(model_ridge, X_train_knn, y_train_knn ,X_test_knn  ,y_test_knn))\n",
    "            print('EM  : ', apply_model(model_ridge, X_train_em, y_train_em ,X_test_em  ,y_test_em))"
   ]
  },
  {
   "cell_type": "code",
   "execution_count": 230,
   "id": "6c7a7ea4-4ebd-487f-b53a-bb8b9e6e0edf",
   "metadata": {},
   "outputs": [
    {
     "ename": "NameError",
     "evalue": "name 'ne' is not defined",
     "output_type": "error",
     "traceback": [
      "\u001b[1;31m---------------------------------------------------------------------------\u001b[0m",
      "\u001b[1;31mNameError\u001b[0m                                 Traceback (most recent call last)",
      "Cell \u001b[1;32mIn[230], line 9\u001b[0m\n\u001b[0;32m      7\u001b[0m \u001b[38;5;28;01mfor\u001b[39;00m md \u001b[38;5;129;01min\u001b[39;00m max_depth:\n\u001b[0;32m      8\u001b[0m     \u001b[38;5;28;01mfor\u001b[39;00m ms \u001b[38;5;129;01min\u001b[39;00m min_samples_split:\n\u001b[1;32m----> 9\u001b[0m        model_RF \u001b[38;5;241m=\u001b[39m  RandomForestRegressor(n_estimators\u001b[38;5;241m=\u001b[39mne , max_depth \u001b[38;5;241m=\u001b[39m md , min_samples_split \u001b[38;5;241m=\u001b[39m ms)\n\u001b[0;32m     10\u001b[0m        \u001b[38;5;28mprint\u001b[39m(model_RF)\n\u001b[0;32m     12\u001b[0m        \u001b[38;5;28mprint\u001b[39m(\u001b[38;5;124m'\u001b[39m\u001b[38;5;124mKNN : \u001b[39m\u001b[38;5;124m'\u001b[39m,apply_model(model_RF, X_train_knn, y_train_knn  ,X_test_knn  ,y_test_knn ))\n",
      "\u001b[1;31mNameError\u001b[0m: name 'ne' is not defined"
     ]
    }
   ],
   "source": [
    "#RandomForestRegressor\n",
    "n_estimators = [50,100,200]\n",
    "max_depth = [4,7,10]\n",
    "min_samples_split = [2,3]\n",
    "\n",
    "for n in n_estimators:\n",
    "    for md in max_depth:\n",
    "        for ms in min_samples_split:\n",
    "           model_RF =  RandomForestRegressor(n_estimators=ne , max_depth = md , min_samples_split = ms)\n",
    "           print(model_RF)\n",
    "\n",
    "           print('KNN : ',apply_model(model_RF, X_train_knn, y_train_knn  ,X_test_knn  ,y_test_knn ))\n",
    "           print('EM  : ', apply_model(model_RF, X_train_em, y_train_em ,X_test_em  ,y_test_em ))            "
   ]
  },
  {
   "cell_type": "code",
   "execution_count": null,
   "id": "250b1422-fa13-4fd3-b88a-2d020e3398af",
   "metadata": {},
   "outputs": [],
   "source": [
    "# GradientBoostingRegressor\n",
    "loss = ['squared_error','absolute_error','huber','quantile']\n",
    "learning_rate = [0.01,0.1,0.5]\n",
    "n_estimators = [1,100,200]\n",
    "subsample = [0.1,0.5,0.75,1]\n",
    "criterion = ['friedman_mse', 'squared_error']\n",
    "min_samples_split = [2,3,4]\n",
    "\n",
    "for l in loss:\n",
    "    for lr in learning_rate:\n",
    "        for ns in n_estimators:\n",
    "            for ss in subsample:\n",
    "                for c in criterion:\n",
    "                   for mss in min_samples_split:\n",
    "                       #loss = l,\n",
    "                       model_GB =  GradientBoostingRegressor( loss = l,learning_rate = lr, n_estimators = ns, subsample = ss, criterion = c, min_samples_split=mss)\n",
    "                       print(model_GB)\n",
    "\n",
    "                       print('KNN : ',apply_model(model_GB, X_train_knn, y_train_knn  ,X_test_knn  ,y_test_knn ))\n",
    "                       print('EM  : ', apply_model(model_GB, X_train_em, y_train_em ,X_test_em  ,y_test_em ))"
   ]
  },
  {
   "cell_type": "code",
   "execution_count": null,
   "id": "662d8386-a5fe-46c4-97f1-dc262d1af846",
   "metadata": {},
   "outputs": [],
   "source": [
    "# MLPRegressor\n",
    "alpha= [1e-3, 1e-4,1e-5, 1e-6]\n",
    "hidden_layer_sizes = [(64, 1), (32, 1), (16, 1), (64,64, 1), (32,32, 1), (16,16, 1)]\n",
    "learning_rate = ['constant', 'invscaling', 'adaptive']\n",
    "\n",
    "for a in alpha:\n",
    "    for h in hidden_layer_sizes:\n",
    "        for lr in learning_rate:\n",
    "            model_mlp = MLPRegressor( alpha=a, max_iter=5000,hidden_layer_sizes=h,learning_rate = lr, random_state=1)\n",
    "            print(model_mlp)\n",
    "            print('KNN : ',apply_model(model_mlp, X_train_knn, y_train_knn ,X_test_knn  ,y_test_knn))\n",
    "            print('EM  : ', apply_model(model_mlp, X_train_em, y_train_em ,X_test_em  ,y_test_em))       \n",
    "\n"
   ]
  },
  {
   "cell_type": "code",
   "execution_count": null,
   "id": "8b741813-021b-41b6-ac9c-3deb21e5eb95",
   "metadata": {},
   "outputs": [],
   "source": [
    "# SVR()\n",
    "kernel = ['linear', 'poly', 'sigmoid', 'precomputed']\n",
    "degree = [1.0, 2.0 , 3.0]\n",
    "C = [0.0 , 0.5, 1.0 , 1.5]\n",
    "epsilon = [0.1, 0.25, 0.4]\n",
    "\n",
    "\n",
    "for k in kernel:\n",
    "    for d in degree:\n",
    "        for c in C:\n",
    "            for e in epsilon:\n",
    "                model_SVR =  SVR(kernel = k, degree = d, C = c, epsilon = e)\n",
    "                print(model_SVR)\n",
    "                print('KNN : ',apply_model(model_SVR, X_train_knn, y_train_knn ,X_test_knn  ,y_test_knn))\n",
    "                print('EM  : ', apply_model(model_SVR, X_train_em, y_train_em ,X_test_em  ,y_test_em))                \n"
   ]
  },
  {
   "cell_type": "markdown",
   "id": "62bddfd8-f588-4984-8921-5f64bfefa5cc",
   "metadata": {},
   "source": [
    "## PCA\n"
   ]
  },
  {
   "cell_type": "code",
   "execution_count": 219,
   "id": "0c6f272b-b5df-4bc4-a26c-fad2fb2a9909",
   "metadata": {},
   "outputs": [],
   "source": [
    "acc = []\n",
    "for n_components in range(2,43,1):\n",
    "    pca = PCA(n_components=n_components)\n",
    "\n",
    "\n",
    "\n",
    "    \n",
    "    pca_X_train_knn = pca.fit_transform(X_train_knn)\n",
    "    pca_X_test_knn = pca.transform(X_test_knn)\n",
    "    eigenvalues_knn = pca.explained_variance_\n",
    "    \n",
    "    pca_X_train_em = pca.fit_transform(X_train_em)\n",
    "    pca_X_test_em = pca.transform(X_test_em)\n",
    "    eigenvalues_em = pca.explained_variance_\n",
    "    \n",
    "    \n",
    "    model = LinearRegression(positive=False)\n",
    "    #print(n_components , model)\n",
    "    knn_LR =  apply_model(model, pca_X_train_knn, y_train_knn  ,pca_X_test_knn  ,y_test_knn , to_string = False)\n",
    "    EM_LR = apply_model(model, pca_X_train_em, y_train_em ,pca_X_test_em  ,y_test_em, to_string = False )\n",
    "    CT_LR = apply_model(model, X_train_ct, y_train_ct ,X_test_ct  ,y_test_ct, to_string = False )\n",
    "    #print('-----')\n",
    "    acc.append([knn_LR,EM_LR])\n",
    "    "
   ]
  },
  {
   "cell_type": "code",
   "execution_count": 220,
   "id": "18f01439-3b64-4752-9c0d-08ddf1d952c2",
   "metadata": {},
   "outputs": [],
   "source": [
    "em = [x[0][0][0] for x,y in acc]\n",
    "knn = [x[1][0][0] for x,y in acc]\n",
    "ct = [x[2][0][0] for x,y in acc]\n",
    "\n",
    "em1 = [x[0][1][0] for x,y in acc]\n",
    "knn1 = [x[1][1][0] for x,y in acc]\n",
    "ct1 = [x[2][1][0] for x,y in acc]"
   ]
  },
  {
   "cell_type": "code",
   "execution_count": 221,
   "id": "47334b05-06e1-434e-97b2-7c420ff41841",
   "metadata": {},
   "outputs": [],
   "source": [
    "em_train = []\n",
    "em_valid = []\n",
    "em_test = []\n",
    "for i in range(len(acc)):\n",
    "   em_train.append(  acc[i][0][0][0][0])\n",
    "   em_valid.append(  acc[i][0][1][0][0])\n",
    "   em_test.append (  acc[i][0][2][0][0])\n",
    "\n",
    "\n",
    "\n"
   ]
  },
  {
   "cell_type": "code",
   "execution_count": 227,
   "id": "b27103de-dece-4a56-a3fc-23d6a1bf7be3",
   "metadata": {},
   "outputs": [
    {
     "data": {
      "text/plain": [
       "41"
      ]
     },
     "execution_count": 227,
     "metadata": {},
     "output_type": "execute_result"
    }
   ],
   "source": []
  },
  {
   "cell_type": "code",
   "execution_count": 229,
   "id": "fd7d6020-f2b8-48c3-8c2c-9b267b5cfc7f",
   "metadata": {},
   "outputs": [
    {
     "data": {
      "image/png": "[encoded data removed]",
      "text/plain": [
       "<Figure size 640x480 with 1 Axes>"
      ]
     },
     "metadata": {},
     "output_type": "display_data"
    }
   ],
   "source": [
    "\n",
    "plt.plot(np.arange(len(em_train)), em_train, label=\"Train\")\n",
    "plt.plot(np.arange(len(em_train)), em_valid, label=\"Valid\")\n",
    "plt.plot(np.arange(len(em_train)), em_test, label=\"Test\")\n",
    "\n",
    "# Adding a title\n",
    "plt.title(\"Feature reducion with PCA\")\n",
    "\n",
    "# Adding legends\n",
    "plt.legend()\n",
    "\n",
    "# Display the plot\n",
    "plt.show()\n"
   ]
  },
  {
   "cell_type": "code",
   "execution_count": null,
   "id": "4291e35d-0537-4d32-b0d9-f73ae16050d1",
   "metadata": {},
   "outputs": [],
   "source": [
    "# Initialize PCA with desired number of components\n",
    "pca = PCA(n_components=n_components)\n",
    "\n",
    "\n",
    "\n",
    "\n",
    "pca_X_train_knn = pca.fit_transform(X_train_knn)\n",
    "pca_X_test_knn = pca.transform(X_test_knn)\n",
    "eigenvalues_knn = pca.explained_variance_\n",
    "\n",
    "\n",
    " \n",
    "\n",
    "# Get loadings (coefficients)\n",
    "loadings = pca.components_\n",
    "\n",
    "# Assuming you have feature names (replace with your actual feature names)\n",
    " \n",
    "\n",
    "# Associate loadings with feature names\n",
    "for i in range(n_components):\n",
    "    print(f\"Principal Component {i + 1}:\")\n",
    "    for j, loading in enumerate(loadings[i]):\n",
    "        print(f\"  {fn[j]}: {loading:.4f}\")\n"
   ]
  },
  {
   "cell_type": "code",
   "execution_count": null,
   "id": "98a0bda7-10ff-457c-a052-ce4b198615fe",
   "metadata": {},
   "outputs": [],
   "source": []
  }
 ],
 "metadata": {
  "kernelspec": {
   "display_name": "Python 3 (ipykernel)",
   "language": "python",
   "name": "python3"
  },
  "language_info": {
   "codemirror_mode": {
    "name": "ipython",
    "version": 3
   },
   "file_extension": ".py",
   "mimetype": "text/x-python",
   "name": "python",
   "nbconvert_exporter": "python",
   "pygments_lexer": "ipython3",
   "version": "3.11.7"
  }
 },
 "nbformat": 4,
 "nbformat_minor": 5
}
