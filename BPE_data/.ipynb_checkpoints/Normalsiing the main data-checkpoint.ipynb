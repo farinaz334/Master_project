{
 "cells": [
  {
   "cell_type": "code",
   "execution_count": 28,
   "id": "fcb466fc-c31f-45ae-a1c6-c8682f469694",
   "metadata": {},
   "outputs": [],
   "source": [
    "# import library\n",
    "import warnings\n",
    "import pandas as pd\n",
    "\n",
    "warnings.filterwarnings(\"ignore\", category=UserWarning, message=\"Conditional Formatting extension is not supported and will be removed\")\n",
    "\n",
    "import numpy as np\n",
    "\n",
    "import matplotlib.pyplot as plt\n",
    "import seaborn as sns\n",
    "import math"
   ]
  },
  {
   "cell_type": "code",
   "execution_count": 2,
   "id": "1e3b847b-3d47-4f52-b9df-b041ff6af299",
   "metadata": {},
   "outputs": [],
   "source": [
    "#reading file\n",
    "#excel_file= pd.ExcelFile(\"bpe_2023_detailed_tables.xlsx\")\n",
    "#sheet_names=excel_file.sheet_names\n",
    "#print(sheet_names)"
   ]
  },
  {
   "cell_type": "code",
   "execution_count": 3,
   "id": "7ca9b1c0-d231-4dc4-a73c-5b0100ec447c",
   "metadata": {},
   "outputs": [],
   "source": [
    "#search_text = \"A Agriculture, Forestry and Fishing\"\n",
    "\n",
    "# Read the first sheet of excel\n",
    "#Table_11=pd.read_excel(excel_file,sheet_name='Table 11')\n",
    "\n",
    "\n",
    "# Find label of the first row where the value 'A Agriculture, Forestry and Fishing' is found (within column 0)\n",
    "#row_label = (Table_11.iloc[:, 0] == 'A Agriculture, Forestry and Fishing').idxmax()\n",
    "\n",
    "# Drop all rows above the row with 'Agriculture....'\n",
    "#Table_11 = Table_11.loc[row_label:, :]"
   ]
  },
  {
   "cell_type": "code",
   "execution_count": 4,
   "id": "120df295-d7cd-4869-9e1d-bff4521f57b2",
   "metadata": {
    "scrolled": true
   },
   "outputs": [],
   "source": [
    "#Table_11.head(10)"
   ]
  },
  {
   "cell_type": "code",
   "execution_count": 29,
   "id": "e311de7b-76d8-4b0b-8f38-ac3ecd4d9e9c",
   "metadata": {},
   "outputs": [],
   "source": [
    "#Creating Dataframe\n",
    "\n",
    "regions = { \"North East\": 'Table 11',\n",
    "    \"North West\": 'Table 12',\n",
    "    \"Yorkshire and the Humber\": 'Table 13',\n",
    "    \"East Midlands\": 'Table 14',\n",
    "    \"West Midlands\": 'Table 15',\n",
    "    \"East of England\": 'Table 16',\n",
    "    \"London\": 'Table 17',\n",
    "    \"South East\": 'Table 18',\n",
    "    \"South West\": 'Table 19',\n",
    "    #\"England\": 'Table 20',\n",
    "    \"Wales\": 'Table 21',\n",
    "    \"Scotland\": 'Table 22',\n",
    "    \"Northern Ireland\": 'Table 23'}\n",
    "\n",
    "file_names = [\n",
    "            'bpe_2014_detailed_tables.xlsx',\n",
    "            'bpe_2013_data.xlsx',\n",
    "            'bpe_2015_detailed_tables.xlsx',\n",
    "            'bpe_2013_data.xlsx',\n",
    "            'bpe_2014_detailed_tables.xlsx',\n",
    "            'bpe_2016_detailed_tables.xlsx',\n",
    "            'BPE_2017_detailed_tables.xlsx', \n",
    "            'OFFICIAL_SENSITIVE_-_BPE_2018_-_detailed_tables.xlsx',\n",
    "            'BPE__2019_detailed_tables.xlsx', \n",
    "            'BPE__2020_detailed_tables.xlsx',\n",
    "            'BPE__2021_detailed_tables.xlsx',\n",
    "            '2022_BPE_detailed_tables.xlsx',\n",
    "            'bpe_2023_detailed_tables.xlsx']\n",
    " \n",
    "years = [2013,2014,2015,2016,2017,2018,2019,2020,2021,2022,2023]\n",
    "            \n",
    "\n",
    "\n",
    "Features = [\"Year\",\"Region\",\"Industry\",\"Employee _size\",\"Employment_number\",\"Business_number\",\"Turnover\"]\n",
    "\n",
    "industries = [\n",
    "\"A Agriculture, Forestry and Fishing\"\n",
    ",\"B, D and E Mining and Quarrying; Electricity, Gas, Steam and Air Conditioning Supply; Water Supply; Sewerage, Waste Management and Remediation Activities\" \n",
    ",\"C Manufacturing\"\n",
    ",\"F Construction\"\n",
    ",\"G Wholesale and Retail Trade; Repair of Motor Vehicles and Motorcycles\"\n",
    ",\"H Transportation and Storage\"\n",
    ",\"I Accommodation and Food Service Activities\"\n",
    ",\"J Information and Communication,K: Financial and Insurance Activities\"\n",
    ",\"K Financial and Insurance Activities\"\n",
    ",\"L Real Estate Activities\"\n",
    ",\"M Professional, Scientific and Technical Activities\"\n",
    ",\"N Administrative and Support Service Activities\"\n",
    ",\"P Education\"\n",
    ",\"Q Human Health and Social Work Activities\"\n",
    ",\"R Arts, Entertainment and Recreation\"\n",
    ",\"S Other Service Activities\"\n",
    " ]\n",
    "\n",
    "# to save normalised data\n",
    "empty_df = pd.DataFrame(columns=Features)\n",
    "\n",
    "\n"
   ]
  },
  {
   "cell_type": "code",
   "execution_count": 30,
   "id": "69aac772-4c70-409a-a0a1-e19b3a0ee58f",
   "metadata": {},
   "outputs": [],
   "source": [
    "#convert string to int, \n",
    "# @s: the string that we want to cast\n",
    "# @defult: if the string was not convertable, return this number\n",
    "\n",
    "def safe_parse_int(s, default=0):\n",
    "    try:\n",
    "        return int(s)\n",
    "    except ValueError:\n",
    "        return default"
   ]
  },
  {
   "cell_type": "code",
   "execution_count": 31,
   "id": "36f2ddae-0107-4a10-a429-2f6401a19636",
   "metadata": {},
   "outputs": [],
   "source": [
    "# read an indusrty from a excel file for a give year and region\n",
    "\n",
    "def read_industry(excel_file, industry,year,region,empty_df):\n",
    "\n",
    "    table_name = regions[region]  \n",
    "    # Read the first sheet of excel\n",
    "    my_table =pd.read_excel(excel_file,sheet_name=table_name)\n",
    "    row_label = (my_table.iloc[:, 0] == industry).idxmax()\n",
    "    \n",
    "    # Drop all rows above the row with 'Agriculture....'\n",
    "    my_table = my_table.loc[row_label:, :]\n",
    "    # find first row that contain information\n",
    "    offset = 0;\n",
    "    while ( safe_parse_int(my_table.iloc[offset,0]) != 1):\n",
    "        offset = offset +1\n",
    "        \n",
    "    # read 10 records\n",
    "    for i in range(10):\n",
    "        new_row = {\"Year\" : year,\"Region\": region, \"Industry\" : industry[0],\n",
    "                   \"Employee _size\":my_table.iloc[offset+i,0]\n",
    "                   ,\"Employment_number\": my_table.iloc[offset+i,4],\n",
    "                   \"Business_number\":my_table.iloc[offset+i,2],\n",
    "                   \"Turnover\":my_table.iloc[offset+i,6]}\n",
    "        empty_df =pd.concat([empty_df, pd.DataFrame([new_row])], ignore_index=True)\n",
    "    \n",
    "    return empty_df\n",
    "\n"
   ]
  },
  {
   "cell_type": "markdown",
   "id": "e7e2c268-5215-4a26-8fe5-9e705fcaf496",
   "metadata": {},
   "source": [
    "for file in file_names[:-2]:\n",
    "    excel_file= pd.ExcelFile(file)\n",
    "    sheets_dict = pd.read_excel(excel_file, sheet_name=None)\n",
    "    renamed_sheets_dict = {f\"Table {i}\": df for i, (sheet_name, df) in enumerate(sheets_dict.items())}\n",
    "    with pd.ExcelWriter(file, engine='openpyxl') as writer:\n",
    "        for new_name, df in renamed_sheets_dict.items():\n",
    "            df.to_excel(writer, sheet_name=new_name, index=False)"
   ]
  },
  {
   "cell_type": "code",
   "execution_count": 32,
   "id": "5e563750-847c-4c49-b926-cea912116346",
   "metadata": {},
   "outputs": [
    {
     "ename": "ImportError",
     "evalue": "Missing optional dependency 'xlrd'. Install xlrd >= 2.0.1 for xls Excel support Use pip or conda to install xlrd.",
     "output_type": "error",
     "traceback": [
      "\u001b[1;31m---------------------------------------------------------------------------\u001b[0m",
      "\u001b[1;31mModuleNotFoundError\u001b[0m                       Traceback (most recent call last)",
      "File \u001b[1;32mE:\\anaconda3\\Lib\\site-packages\\pandas\\compat\\_optional.py:132\u001b[0m, in \u001b[0;36mimport_optional_dependency\u001b[1;34m(name, extra, errors, min_version)\u001b[0m\n\u001b[0;32m    131\u001b[0m \u001b[38;5;28;01mtry\u001b[39;00m:\n\u001b[1;32m--> 132\u001b[0m     module \u001b[38;5;241m=\u001b[39m importlib\u001b[38;5;241m.\u001b[39mimport_module(name)\n\u001b[0;32m    133\u001b[0m \u001b[38;5;28;01mexcept\u001b[39;00m \u001b[38;5;167;01mImportError\u001b[39;00m:\n",
      "File \u001b[1;32mE:\\anaconda3\\Lib\\importlib\\__init__.py:126\u001b[0m, in \u001b[0;36mimport_module\u001b[1;34m(name, package)\u001b[0m\n\u001b[0;32m    125\u001b[0m         level \u001b[38;5;241m+\u001b[39m\u001b[38;5;241m=\u001b[39m \u001b[38;5;241m1\u001b[39m\n\u001b[1;32m--> 126\u001b[0m \u001b[38;5;28;01mreturn\u001b[39;00m _bootstrap\u001b[38;5;241m.\u001b[39m_gcd_import(name[level:], package, level)\n",
      "File \u001b[1;32m<frozen importlib._bootstrap>:1204\u001b[0m, in \u001b[0;36m_gcd_import\u001b[1;34m(name, package, level)\u001b[0m\n",
      "File \u001b[1;32m<frozen importlib._bootstrap>:1176\u001b[0m, in \u001b[0;36m_find_and_load\u001b[1;34m(name, import_)\u001b[0m\n",
      "File \u001b[1;32m<frozen importlib._bootstrap>:1140\u001b[0m, in \u001b[0;36m_find_and_load_unlocked\u001b[1;34m(name, import_)\u001b[0m\n",
      "\u001b[1;31mModuleNotFoundError\u001b[0m: No module named 'xlrd'",
      "\nDuring handling of the above exception, another exception occurred:\n",
      "\u001b[1;31mImportError\u001b[0m                               Traceback (most recent call last)",
      "Cell \u001b[1;32mIn[32], line 5\u001b[0m\n\u001b[0;32m      2\u001b[0m empty_df \u001b[38;5;241m=\u001b[39m pd\u001b[38;5;241m.\u001b[39mDataFrame(columns\u001b[38;5;241m=\u001b[39mFeatures)\n\u001b[0;32m      4\u001b[0m \u001b[38;5;28;01mfor\u001b[39;00m file,year \u001b[38;5;129;01min\u001b[39;00m \u001b[38;5;28mzip\u001b[39m(file_names, years):\n\u001b[1;32m----> 5\u001b[0m     excel_file\u001b[38;5;241m=\u001b[39m pd\u001b[38;5;241m.\u001b[39mExcelFile(file)\n\u001b[0;32m      6\u001b[0m     \u001b[38;5;66;03m#print(file , year)\u001b[39;00m\n\u001b[0;32m      7\u001b[0m     \u001b[38;5;28;01mfor\u001b[39;00m region \u001b[38;5;129;01min\u001b[39;00m regions\u001b[38;5;241m.\u001b[39mkeys():\n\u001b[0;32m      8\u001b[0m         \u001b[38;5;66;03m#print(region)\u001b[39;00m\n",
      "File \u001b[1;32mE:\\anaconda3\\Lib\\site-packages\\pandas\\io\\excel\\_base.py:1580\u001b[0m, in \u001b[0;36mExcelFile.__init__\u001b[1;34m(self, path_or_buffer, engine, storage_options, engine_kwargs)\u001b[0m\n\u001b[0;32m   1577\u001b[0m \u001b[38;5;28mself\u001b[39m\u001b[38;5;241m.\u001b[39mengine \u001b[38;5;241m=\u001b[39m engine\n\u001b[0;32m   1578\u001b[0m \u001b[38;5;28mself\u001b[39m\u001b[38;5;241m.\u001b[39mstorage_options \u001b[38;5;241m=\u001b[39m storage_options\n\u001b[1;32m-> 1580\u001b[0m \u001b[38;5;28mself\u001b[39m\u001b[38;5;241m.\u001b[39m_reader \u001b[38;5;241m=\u001b[39m \u001b[38;5;28mself\u001b[39m\u001b[38;5;241m.\u001b[39m_engines[engine](\n\u001b[0;32m   1581\u001b[0m     \u001b[38;5;28mself\u001b[39m\u001b[38;5;241m.\u001b[39m_io,\n\u001b[0;32m   1582\u001b[0m     storage_options\u001b[38;5;241m=\u001b[39mstorage_options,\n\u001b[0;32m   1583\u001b[0m     engine_kwargs\u001b[38;5;241m=\u001b[39mengine_kwargs,\n\u001b[0;32m   1584\u001b[0m )\n",
      "File \u001b[1;32mE:\\anaconda3\\Lib\\site-packages\\pandas\\io\\excel\\_xlrd.py:44\u001b[0m, in \u001b[0;36mXlrdReader.__init__\u001b[1;34m(self, filepath_or_buffer, storage_options, engine_kwargs)\u001b[0m\n\u001b[0;32m     32\u001b[0m \u001b[38;5;250m\u001b[39m\u001b[38;5;124;03m\"\"\"\u001b[39;00m\n\u001b[0;32m     33\u001b[0m \u001b[38;5;124;03mReader using xlrd engine.\u001b[39;00m\n\u001b[0;32m     34\u001b[0m \n\u001b[1;32m   (...)\u001b[0m\n\u001b[0;32m     41\u001b[0m \u001b[38;5;124;03m    Arbitrary keyword arguments passed to excel engine.\u001b[39;00m\n\u001b[0;32m     42\u001b[0m \u001b[38;5;124;03m\"\"\"\u001b[39;00m\n\u001b[0;32m     43\u001b[0m err_msg \u001b[38;5;241m=\u001b[39m \u001b[38;5;124m\"\u001b[39m\u001b[38;5;124mInstall xlrd >= 2.0.1 for xls Excel support\u001b[39m\u001b[38;5;124m\"\u001b[39m\n\u001b[1;32m---> 44\u001b[0m import_optional_dependency(\u001b[38;5;124m\"\u001b[39m\u001b[38;5;124mxlrd\u001b[39m\u001b[38;5;124m\"\u001b[39m, extra\u001b[38;5;241m=\u001b[39merr_msg)\n\u001b[0;32m     45\u001b[0m \u001b[38;5;28msuper\u001b[39m()\u001b[38;5;241m.\u001b[39m\u001b[38;5;21m__init__\u001b[39m(\n\u001b[0;32m     46\u001b[0m     filepath_or_buffer,\n\u001b[0;32m     47\u001b[0m     storage_options\u001b[38;5;241m=\u001b[39mstorage_options,\n\u001b[0;32m     48\u001b[0m     engine_kwargs\u001b[38;5;241m=\u001b[39mengine_kwargs,\n\u001b[0;32m     49\u001b[0m )\n",
      "File \u001b[1;32mE:\\anaconda3\\Lib\\site-packages\\pandas\\compat\\_optional.py:135\u001b[0m, in \u001b[0;36mimport_optional_dependency\u001b[1;34m(name, extra, errors, min_version)\u001b[0m\n\u001b[0;32m    133\u001b[0m \u001b[38;5;28;01mexcept\u001b[39;00m \u001b[38;5;167;01mImportError\u001b[39;00m:\n\u001b[0;32m    134\u001b[0m     \u001b[38;5;28;01mif\u001b[39;00m errors \u001b[38;5;241m==\u001b[39m \u001b[38;5;124m\"\u001b[39m\u001b[38;5;124mraise\u001b[39m\u001b[38;5;124m\"\u001b[39m:\n\u001b[1;32m--> 135\u001b[0m         \u001b[38;5;28;01mraise\u001b[39;00m \u001b[38;5;167;01mImportError\u001b[39;00m(msg)\n\u001b[0;32m    136\u001b[0m     \u001b[38;5;28;01mreturn\u001b[39;00m \u001b[38;5;28;01mNone\u001b[39;00m\n\u001b[0;32m    138\u001b[0m \u001b[38;5;66;03m# Handle submodules: if we have submodule, grab parent module from sys.modules\u001b[39;00m\n",
      "\u001b[1;31mImportError\u001b[0m: Missing optional dependency 'xlrd'. Install xlrd >= 2.0.1 for xls Excel support Use pip or conda to install xlrd."
     ]
    }
   ],
   "source": [
    "# read all files \n",
    "empty_df = pd.DataFrame(columns=Features)\n",
    "\n",
    "for file,year in zip(file_names, years):\n",
    "    excel_file= pd.ExcelFile(file)\n",
    "    #print(file , year)\n",
    "    for region in regions.keys():\n",
    "        #print(region)\n",
    "        for industry in industries:\n",
    "            #print(industry)\n",
    "            empty_df=  read_industry(excel_file, industry,year,region,empty_df)\n",
    " "
   ]
  },
  {
   "cell_type": "code",
   "execution_count": null,
   "id": "bcfec82a-0426-4be6-a53a-570e96c25845",
   "metadata": {},
   "outputs": [],
   "source": [
    "# save the out files\n",
    "empty_df.to_csv('Turnover.csv')"
   ]
  },
  {
   "cell_type": "code",
   "execution_count": null,
   "id": "ad6a136e-aa41-4499-aa71-b94c5e4afa90",
   "metadata": {},
   "outputs": [],
   "source": []
  },
  {
   "cell_type": "code",
   "execution_count": null,
   "id": "48545a5f-af59-444e-ac4e-63d8714aa925",
   "metadata": {},
   "outputs": [],
   "source": []
  }
 ],
 "metadata": {
  "kernelspec": {
   "display_name": "Python 3 (ipykernel)",
   "language": "python",
   "name": "python3"
  },
  "language_info": {
   "codemirror_mode": {
    "name": "ipython",
    "version": 3
   },
   "file_extension": ".py",
   "mimetype": "text/x-python",
   "name": "python",
   "nbconvert_exporter": "python",
   "pygments_lexer": "ipython3",
   "version": "3.11.7"
  }
 },
 "nbformat": 4,
 "nbformat_minor": 5
}
