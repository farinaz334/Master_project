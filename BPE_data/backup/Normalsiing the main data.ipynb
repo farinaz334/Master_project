{
 "cells": [
  {
   "cell_type": "code",
   "execution_count": 1,
   "id": "fcb466fc-c31f-45ae-a1c6-c8682f469694",
   "metadata": {},
   "outputs": [],
   "source": [
    "# import library\n",
    "import warnings\n",
    "import pandas as pd\n",
    "\n",
    "warnings.filterwarnings(\"ignore\", category=UserWarning, message=\"Conditional Formatting extension is not supported and will be removed\")\n",
    "\n",
    "import numpy as np\n",
    "\n",
    "import matplotlib.pyplot as plt\n",
    "import seaborn as sns\n",
    "import math"
   ]
  },
  {
   "cell_type": "code",
   "execution_count": 2,
   "id": "1e3b847b-3d47-4f52-b9df-b041ff6af299",
   "metadata": {},
   "outputs": [],
   "source": [
    "#reading file\n",
    "#excel_file= pd.ExcelFile(\"bpe_2023_detailed_tables.xlsx\")\n",
    "#sheet_names=excel_file.sheet_names\n",
    "#print(sheet_names)"
   ]
  },
  {
   "cell_type": "code",
   "execution_count": 3,
   "id": "7ca9b1c0-d231-4dc4-a73c-5b0100ec447c",
   "metadata": {},
   "outputs": [],
   "source": [
    "#search_text = \"A Agriculture, Forestry and Fishing\"\n",
    "\n",
    "# Read the first sheet of excel\n",
    "#Table_11=pd.read_excel(excel_file,sheet_name='Table 11')\n",
    "\n",
    "\n",
    "# Find label of the first row where the value 'A Agriculture, Forestry and Fishing' is found (within column 0)\n",
    "#row_label = (Table_11.iloc[:, 0] == 'A Agriculture, Forestry and Fishing').idxmax()\n",
    "\n",
    "# Drop all rows above the row with 'Agriculture....'\n",
    "#Table_11 = Table_11.loc[row_label:, :]"
   ]
  },
  {
   "cell_type": "code",
   "execution_count": 4,
   "id": "120df295-d7cd-4869-9e1d-bff4521f57b2",
   "metadata": {
    "scrolled": true
   },
   "outputs": [],
   "source": [
    "#Table_11.head(10)"
   ]
  },
  {
   "cell_type": "code",
   "execution_count": 2,
   "id": "e311de7b-76d8-4b0b-8f38-ac3ecd4d9e9c",
   "metadata": {},
   "outputs": [],
   "source": [
    "#Creating Dataframe\n",
    "\n",
    "regions = { \"North East\": 'Table 11',\n",
    "    \"North West\": 'Table 12',\n",
    "    \"Yorkshire and the Humber\": 'Table 13',\n",
    "    \"East Midlands\": 'Table 14',\n",
    "    \"West Midlands\": 'Table 15',\n",
    "    \"East of England\": 'Table 16',\n",
    "    \"London\": 'Table 17',\n",
    "    \"South East\": 'Table 18',\n",
    "    \"South West\": 'Table 19',\n",
    "    \"England\": 'Table 20',\n",
    "    \"Wales\": 'Table 21',\n",
    "    \"Scotland\": 'Table 22',\n",
    "    \"Northern Ireland\": 'Table 23'}\n",
    "\n",
    "file_names = ['bpe_2015_detailed_tables.xlsx',\n",
    "              'bpe_2016_detailed_tables.xlsx',\n",
    "              'BPE_2017_detailed_tables.xlsx', \n",
    "              'OFFICIAL_SENSITIVE_-_BPE_2018_-_detailed_tables.xlsx',\n",
    "              'BPE__2019_detailed_tables.xlsx', \n",
    "              'BPE__2020_detailed_tables.xlsx',\n",
    "              'BPE__2021_detailed_tables.xlsx',\n",
    "              '2022_BPE_detailed_tables.xlsx',\n",
    "              'bpe_2023_detailed_tables.xlsx']\n",
    "years = [2017,2018,2019,2020,2021,2022,2023]\n",
    "              \n",
    "\n",
    "\n",
    "Features = [\"Year\",\"Region\",\"Industry\",\"Employee _size\",\"Employment_number\",\"Business_number\",\"Turnover\"]\n",
    "\n",
    "industries = [\n",
    "\"A Agriculture, Forestry and Fishing\"\n",
    ",\"B, D and E Mining and Quarrying; Electricity, Gas, Steam and Air Conditioning Supply; Water Supply; Sewerage, Waste Management and Remediation Activities\" \n",
    ",\"C Manufacturing\"\n",
    ",\"F Construction\"\n",
    ",\"G Wholesale and Retail Trade; Repair of Motor Vehicles and Motorcycles\"\n",
    ",\"H Transportation and Storage\"\n",
    ",\"I Accommodation and Food Service Activities\"\n",
    ",\"J Information and Communication,K: Financial and Insurance Activities\"\n",
    ",\"K Financial and Insurance Activities\"\n",
    ",\"L Real Estate Activities\"\n",
    ",\"M Professional, Scientific and Technical Activities\"\n",
    ",\"N Administrative and Support Service Activities\"\n",
    ",\"P Education\"\n",
    ",\"Q Human Health and Social Work Activities\"\n",
    ",\"R Arts, Entertainment and Recreation\"\n",
    ",\"S Other Service Activities\"\n",
    " ]\n",
    "\n",
    "# to save normalised data\n",
    "empty_df = pd.DataFrame(columns=Features)\n",
    "\n",
    "\n"
   ]
  },
  {
   "cell_type": "code",
   "execution_count": 3,
   "id": "69aac772-4c70-409a-a0a1-e19b3a0ee58f",
   "metadata": {},
   "outputs": [],
   "source": [
    "#convert string to int, \n",
    "# @s: the string that we want to cast\n",
    "# @defult: if the string was not convertable, return this number\n",
    "\n",
    "def safe_parse_int(s, default=0):\n",
    "    try:\n",
    "        return int(s)\n",
    "    except ValueError:\n",
    "        return default"
   ]
  },
  {
   "cell_type": "code",
   "execution_count": 4,
   "id": "36f2ddae-0107-4a10-a429-2f6401a19636",
   "metadata": {},
   "outputs": [],
   "source": [
    "# read an indusrty from a excel file for a give year and region\n",
    "\n",
    "def read_industry(excel_file, industry,year,region,empty_df):\n",
    "\n",
    "    table_name = regions[region]  \n",
    "    # Read the first sheet of excel\n",
    "    my_table =pd.read_excel(excel_file,sheet_name=table_name)\n",
    "    row_label = (my_table.iloc[:, 0] == industry).idxmax()\n",
    "    \n",
    "    # Drop all rows above the row with 'Agriculture....'\n",
    "    my_table = my_table.loc[row_label:, :]\n",
    "    # find first row that contain information\n",
    "    offset = 0;\n",
    "    while ( safe_parse_int(my_table.iloc[offset,0]) != 1):\n",
    "        offset = offset +1\n",
    "        \n",
    "    # read 10 records\n",
    "    for i in range(10):\n",
    "        new_row = {\"Year\" : year,\"Region\": region, \"Industry\" : industry[0],\n",
    "                   \"Employee _size\":my_table.iloc[offset+i,0]\n",
    "                   ,\"Employment_number\": my_table.iloc[offset+i,4],\n",
    "                   \"Business_number\":my_table.iloc[offset+i,2],\n",
    "                   \"Turnover\":my_table.iloc[offset+i,6]}\n",
    "        empty_df =pd.concat([empty_df, pd.DataFrame([new_row])], ignore_index=True)\n",
    "    \n",
    "    return empty_df\n",
    "\n"
   ]
  },
  {
   "cell_type": "code",
   "execution_count": 5,
   "id": "5e563750-847c-4c49-b926-cea912116346",
   "metadata": {},
   "outputs": [
    {
     "ename": "ValueError",
     "evalue": "Worksheet named 'Table 11' not found",
     "output_type": "error",
     "traceback": [
      "\u001b[1;31m---------------------------------------------------------------------------\u001b[0m",
      "\u001b[1;31mValueError\u001b[0m                                Traceback (most recent call last)",
      "Cell \u001b[1;32mIn[5], line 7\u001b[0m\n\u001b[0;32m      5\u001b[0m \u001b[38;5;28;01mfor\u001b[39;00m region \u001b[38;5;129;01min\u001b[39;00m regions\u001b[38;5;241m.\u001b[39mkeys():\n\u001b[0;32m      6\u001b[0m     \u001b[38;5;28;01mfor\u001b[39;00m industry \u001b[38;5;129;01min\u001b[39;00m industries:\n\u001b[1;32m----> 7\u001b[0m         empty_df\u001b[38;5;241m=\u001b[39m  read_industry(excel_file, industry,year,region,empty_df)\n",
      "Cell \u001b[1;32mIn[4], line 7\u001b[0m, in \u001b[0;36mread_industry\u001b[1;34m(excel_file, industry, year, region, empty_df)\u001b[0m\n\u001b[0;32m      5\u001b[0m table_name \u001b[38;5;241m=\u001b[39m regions[region]  \n\u001b[0;32m      6\u001b[0m \u001b[38;5;66;03m# Read the first sheet of excel\u001b[39;00m\n\u001b[1;32m----> 7\u001b[0m my_table \u001b[38;5;241m=\u001b[39mpd\u001b[38;5;241m.\u001b[39mread_excel(excel_file,sheet_name\u001b[38;5;241m=\u001b[39mtable_name)\n\u001b[0;32m      8\u001b[0m row_label \u001b[38;5;241m=\u001b[39m (my_table\u001b[38;5;241m.\u001b[39miloc[:, \u001b[38;5;241m0\u001b[39m] \u001b[38;5;241m==\u001b[39m industry)\u001b[38;5;241m.\u001b[39midxmax()\n\u001b[0;32m     10\u001b[0m \u001b[38;5;66;03m# Drop all rows above the row with 'Agriculture....'\u001b[39;00m\n",
      "File \u001b[1;32mE:\\anaconda3\\Lib\\site-packages\\pandas\\io\\excel\\_base.py:517\u001b[0m, in \u001b[0;36mread_excel\u001b[1;34m(io, sheet_name, header, names, index_col, usecols, dtype, engine, converters, true_values, false_values, skiprows, nrows, na_values, keep_default_na, na_filter, verbose, parse_dates, date_parser, date_format, thousands, decimal, comment, skipfooter, storage_options, dtype_backend, engine_kwargs)\u001b[0m\n\u001b[0;32m    511\u001b[0m     \u001b[38;5;28;01mraise\u001b[39;00m \u001b[38;5;167;01mValueError\u001b[39;00m(\n\u001b[0;32m    512\u001b[0m         \u001b[38;5;124m\"\u001b[39m\u001b[38;5;124mEngine should not be specified when passing \u001b[39m\u001b[38;5;124m\"\u001b[39m\n\u001b[0;32m    513\u001b[0m         \u001b[38;5;124m\"\u001b[39m\u001b[38;5;124man ExcelFile - ExcelFile already has the engine set\u001b[39m\u001b[38;5;124m\"\u001b[39m\n\u001b[0;32m    514\u001b[0m     )\n\u001b[0;32m    516\u001b[0m \u001b[38;5;28;01mtry\u001b[39;00m:\n\u001b[1;32m--> 517\u001b[0m     data \u001b[38;5;241m=\u001b[39m io\u001b[38;5;241m.\u001b[39mparse(\n\u001b[0;32m    518\u001b[0m         sheet_name\u001b[38;5;241m=\u001b[39msheet_name,\n\u001b[0;32m    519\u001b[0m         header\u001b[38;5;241m=\u001b[39mheader,\n\u001b[0;32m    520\u001b[0m         names\u001b[38;5;241m=\u001b[39mnames,\n\u001b[0;32m    521\u001b[0m         index_col\u001b[38;5;241m=\u001b[39mindex_col,\n\u001b[0;32m    522\u001b[0m         usecols\u001b[38;5;241m=\u001b[39musecols,\n\u001b[0;32m    523\u001b[0m         dtype\u001b[38;5;241m=\u001b[39mdtype,\n\u001b[0;32m    524\u001b[0m         converters\u001b[38;5;241m=\u001b[39mconverters,\n\u001b[0;32m    525\u001b[0m         true_values\u001b[38;5;241m=\u001b[39mtrue_values,\n\u001b[0;32m    526\u001b[0m         false_values\u001b[38;5;241m=\u001b[39mfalse_values,\n\u001b[0;32m    527\u001b[0m         skiprows\u001b[38;5;241m=\u001b[39mskiprows,\n\u001b[0;32m    528\u001b[0m         nrows\u001b[38;5;241m=\u001b[39mnrows,\n\u001b[0;32m    529\u001b[0m         na_values\u001b[38;5;241m=\u001b[39mna_values,\n\u001b[0;32m    530\u001b[0m         keep_default_na\u001b[38;5;241m=\u001b[39mkeep_default_na,\n\u001b[0;32m    531\u001b[0m         na_filter\u001b[38;5;241m=\u001b[39mna_filter,\n\u001b[0;32m    532\u001b[0m         verbose\u001b[38;5;241m=\u001b[39mverbose,\n\u001b[0;32m    533\u001b[0m         parse_dates\u001b[38;5;241m=\u001b[39mparse_dates,\n\u001b[0;32m    534\u001b[0m         date_parser\u001b[38;5;241m=\u001b[39mdate_parser,\n\u001b[0;32m    535\u001b[0m         date_format\u001b[38;5;241m=\u001b[39mdate_format,\n\u001b[0;32m    536\u001b[0m         thousands\u001b[38;5;241m=\u001b[39mthousands,\n\u001b[0;32m    537\u001b[0m         decimal\u001b[38;5;241m=\u001b[39mdecimal,\n\u001b[0;32m    538\u001b[0m         comment\u001b[38;5;241m=\u001b[39mcomment,\n\u001b[0;32m    539\u001b[0m         skipfooter\u001b[38;5;241m=\u001b[39mskipfooter,\n\u001b[0;32m    540\u001b[0m         dtype_backend\u001b[38;5;241m=\u001b[39mdtype_backend,\n\u001b[0;32m    541\u001b[0m     )\n\u001b[0;32m    542\u001b[0m \u001b[38;5;28;01mfinally\u001b[39;00m:\n\u001b[0;32m    543\u001b[0m     \u001b[38;5;66;03m# make sure to close opened file handles\u001b[39;00m\n\u001b[0;32m    544\u001b[0m     \u001b[38;5;28;01mif\u001b[39;00m should_close:\n",
      "File \u001b[1;32mE:\\anaconda3\\Lib\\site-packages\\pandas\\io\\excel\\_base.py:1629\u001b[0m, in \u001b[0;36mExcelFile.parse\u001b[1;34m(self, sheet_name, header, names, index_col, usecols, converters, true_values, false_values, skiprows, nrows, na_values, parse_dates, date_parser, date_format, thousands, comment, skipfooter, dtype_backend, **kwds)\u001b[0m\n\u001b[0;32m   1589\u001b[0m \u001b[38;5;28;01mdef\u001b[39;00m \u001b[38;5;21mparse\u001b[39m(\n\u001b[0;32m   1590\u001b[0m     \u001b[38;5;28mself\u001b[39m,\n\u001b[0;32m   1591\u001b[0m     sheet_name: \u001b[38;5;28mstr\u001b[39m \u001b[38;5;241m|\u001b[39m \u001b[38;5;28mint\u001b[39m \u001b[38;5;241m|\u001b[39m \u001b[38;5;28mlist\u001b[39m[\u001b[38;5;28mint\u001b[39m] \u001b[38;5;241m|\u001b[39m \u001b[38;5;28mlist\u001b[39m[\u001b[38;5;28mstr\u001b[39m] \u001b[38;5;241m|\u001b[39m \u001b[38;5;28;01mNone\u001b[39;00m \u001b[38;5;241m=\u001b[39m \u001b[38;5;241m0\u001b[39m,\n\u001b[1;32m   (...)\u001b[0m\n\u001b[0;32m   1609\u001b[0m     \u001b[38;5;241m*\u001b[39m\u001b[38;5;241m*\u001b[39mkwds,\n\u001b[0;32m   1610\u001b[0m ) \u001b[38;5;241m-\u001b[39m\u001b[38;5;241m>\u001b[39m DataFrame \u001b[38;5;241m|\u001b[39m \u001b[38;5;28mdict\u001b[39m[\u001b[38;5;28mstr\u001b[39m, DataFrame] \u001b[38;5;241m|\u001b[39m \u001b[38;5;28mdict\u001b[39m[\u001b[38;5;28mint\u001b[39m, DataFrame]:\n\u001b[0;32m   1611\u001b[0m \u001b[38;5;250m    \u001b[39m\u001b[38;5;124;03m\"\"\"\u001b[39;00m\n\u001b[0;32m   1612\u001b[0m \u001b[38;5;124;03m    Parse specified sheet(s) into a DataFrame.\u001b[39;00m\n\u001b[0;32m   1613\u001b[0m \n\u001b[1;32m   (...)\u001b[0m\n\u001b[0;32m   1627\u001b[0m \u001b[38;5;124;03m    >>> file.parse()  # doctest: +SKIP\u001b[39;00m\n\u001b[0;32m   1628\u001b[0m \u001b[38;5;124;03m    \"\"\"\u001b[39;00m\n\u001b[1;32m-> 1629\u001b[0m     \u001b[38;5;28;01mreturn\u001b[39;00m \u001b[38;5;28mself\u001b[39m\u001b[38;5;241m.\u001b[39m_reader\u001b[38;5;241m.\u001b[39mparse(\n\u001b[0;32m   1630\u001b[0m         sheet_name\u001b[38;5;241m=\u001b[39msheet_name,\n\u001b[0;32m   1631\u001b[0m         header\u001b[38;5;241m=\u001b[39mheader,\n\u001b[0;32m   1632\u001b[0m         names\u001b[38;5;241m=\u001b[39mnames,\n\u001b[0;32m   1633\u001b[0m         index_col\u001b[38;5;241m=\u001b[39mindex_col,\n\u001b[0;32m   1634\u001b[0m         usecols\u001b[38;5;241m=\u001b[39musecols,\n\u001b[0;32m   1635\u001b[0m         converters\u001b[38;5;241m=\u001b[39mconverters,\n\u001b[0;32m   1636\u001b[0m         true_values\u001b[38;5;241m=\u001b[39mtrue_values,\n\u001b[0;32m   1637\u001b[0m         false_values\u001b[38;5;241m=\u001b[39mfalse_values,\n\u001b[0;32m   1638\u001b[0m         skiprows\u001b[38;5;241m=\u001b[39mskiprows,\n\u001b[0;32m   1639\u001b[0m         nrows\u001b[38;5;241m=\u001b[39mnrows,\n\u001b[0;32m   1640\u001b[0m         na_values\u001b[38;5;241m=\u001b[39mna_values,\n\u001b[0;32m   1641\u001b[0m         parse_dates\u001b[38;5;241m=\u001b[39mparse_dates,\n\u001b[0;32m   1642\u001b[0m         date_parser\u001b[38;5;241m=\u001b[39mdate_parser,\n\u001b[0;32m   1643\u001b[0m         date_format\u001b[38;5;241m=\u001b[39mdate_format,\n\u001b[0;32m   1644\u001b[0m         thousands\u001b[38;5;241m=\u001b[39mthousands,\n\u001b[0;32m   1645\u001b[0m         comment\u001b[38;5;241m=\u001b[39mcomment,\n\u001b[0;32m   1646\u001b[0m         skipfooter\u001b[38;5;241m=\u001b[39mskipfooter,\n\u001b[0;32m   1647\u001b[0m         dtype_backend\u001b[38;5;241m=\u001b[39mdtype_backend,\n\u001b[0;32m   1648\u001b[0m         \u001b[38;5;241m*\u001b[39m\u001b[38;5;241m*\u001b[39mkwds,\n\u001b[0;32m   1649\u001b[0m     )\n",
      "File \u001b[1;32mE:\\anaconda3\\Lib\\site-packages\\pandas\\io\\excel\\_base.py:788\u001b[0m, in \u001b[0;36mBaseExcelReader.parse\u001b[1;34m(self, sheet_name, header, names, index_col, usecols, dtype, true_values, false_values, skiprows, nrows, na_values, verbose, parse_dates, date_parser, date_format, thousands, decimal, comment, skipfooter, dtype_backend, **kwds)\u001b[0m\n\u001b[0;32m    785\u001b[0m     \u001b[38;5;28mprint\u001b[39m(\u001b[38;5;124mf\u001b[39m\u001b[38;5;124m\"\u001b[39m\u001b[38;5;124mReading sheet \u001b[39m\u001b[38;5;132;01m{\u001b[39;00masheetname\u001b[38;5;132;01m}\u001b[39;00m\u001b[38;5;124m\"\u001b[39m)\n\u001b[0;32m    787\u001b[0m \u001b[38;5;28;01mif\u001b[39;00m \u001b[38;5;28misinstance\u001b[39m(asheetname, \u001b[38;5;28mstr\u001b[39m):\n\u001b[1;32m--> 788\u001b[0m     sheet \u001b[38;5;241m=\u001b[39m \u001b[38;5;28mself\u001b[39m\u001b[38;5;241m.\u001b[39mget_sheet_by_name(asheetname)\n\u001b[0;32m    789\u001b[0m \u001b[38;5;28;01melse\u001b[39;00m:  \u001b[38;5;66;03m# assume an integer if not a string\u001b[39;00m\n\u001b[0;32m    790\u001b[0m     sheet \u001b[38;5;241m=\u001b[39m \u001b[38;5;28mself\u001b[39m\u001b[38;5;241m.\u001b[39mget_sheet_by_index(asheetname)\n",
      "File \u001b[1;32mE:\\anaconda3\\Lib\\site-packages\\pandas\\io\\excel\\_openpyxl.py:583\u001b[0m, in \u001b[0;36mOpenpyxlReader.get_sheet_by_name\u001b[1;34m(self, name)\u001b[0m\n\u001b[0;32m    582\u001b[0m \u001b[38;5;28;01mdef\u001b[39;00m \u001b[38;5;21mget_sheet_by_name\u001b[39m(\u001b[38;5;28mself\u001b[39m, name: \u001b[38;5;28mstr\u001b[39m):\n\u001b[1;32m--> 583\u001b[0m     \u001b[38;5;28mself\u001b[39m\u001b[38;5;241m.\u001b[39mraise_if_bad_sheet_by_name(name)\n\u001b[0;32m    584\u001b[0m     \u001b[38;5;28;01mreturn\u001b[39;00m \u001b[38;5;28mself\u001b[39m\u001b[38;5;241m.\u001b[39mbook[name]\n",
      "File \u001b[1;32mE:\\anaconda3\\Lib\\site-packages\\pandas\\io\\excel\\_base.py:639\u001b[0m, in \u001b[0;36mBaseExcelReader.raise_if_bad_sheet_by_name\u001b[1;34m(self, name)\u001b[0m\n\u001b[0;32m    637\u001b[0m \u001b[38;5;28;01mdef\u001b[39;00m \u001b[38;5;21mraise_if_bad_sheet_by_name\u001b[39m(\u001b[38;5;28mself\u001b[39m, name: \u001b[38;5;28mstr\u001b[39m) \u001b[38;5;241m-\u001b[39m\u001b[38;5;241m>\u001b[39m \u001b[38;5;28;01mNone\u001b[39;00m:\n\u001b[0;32m    638\u001b[0m     \u001b[38;5;28;01mif\u001b[39;00m name \u001b[38;5;129;01mnot\u001b[39;00m \u001b[38;5;129;01min\u001b[39;00m \u001b[38;5;28mself\u001b[39m\u001b[38;5;241m.\u001b[39msheet_names:\n\u001b[1;32m--> 639\u001b[0m         \u001b[38;5;28;01mraise\u001b[39;00m \u001b[38;5;167;01mValueError\u001b[39;00m(\u001b[38;5;124mf\u001b[39m\u001b[38;5;124m\"\u001b[39m\u001b[38;5;124mWorksheet named \u001b[39m\u001b[38;5;124m'\u001b[39m\u001b[38;5;132;01m{\u001b[39;00mname\u001b[38;5;132;01m}\u001b[39;00m\u001b[38;5;124m'\u001b[39m\u001b[38;5;124m not found\u001b[39m\u001b[38;5;124m\"\u001b[39m)\n",
      "\u001b[1;31mValueError\u001b[0m: Worksheet named 'Table 11' not found"
     ]
    }
   ],
   "source": [
    "# read all files \n",
    "empty_df = pd.DataFrame(columns=Features)\n",
    "for file,year in zip(file_names, years):\n",
    "    excel_file= pd.ExcelFile(file)\n",
    "    for region in regions.keys():\n",
    "        for industry in industries:\n",
    "            empty_df=  read_industry(excel_file, industry,year,region,empty_df)\n"
   ]
  },
  {
   "cell_type": "code",
   "execution_count": null,
   "id": "bcfec82a-0426-4be6-a53a-570e96c25845",
   "metadata": {},
   "outputs": [],
   "source": [
    "# save the out files\n",
    "empty_df.to_csv('Turnover.csv')"
   ]
  },
  {
   "cell_type": "code",
   "execution_count": null,
   "id": "ad6a136e-aa41-4499-aa71-b94c5e4afa90",
   "metadata": {},
   "outputs": [],
   "source": []
  },
  {
   "cell_type": "code",
   "execution_count": null,
   "id": "48545a5f-af59-444e-ac4e-63d8714aa925",
   "metadata": {},
   "outputs": [],
   "source": []
  }
 ],
 "metadata": {
  "kernelspec": {
   "display_name": "Python 3 (ipykernel)",
   "language": "python",
   "name": "python3"
  },
  "language_info": {
   "codemirror_mode": {
    "name": "ipython",
    "version": 3
   },
   "file_extension": ".py",
   "mimetype": "text/x-python",
   "name": "python",
   "nbconvert_exporter": "python",
   "pygments_lexer": "ipython3",
   "version": "3.11.7"
  }
 },
 "nbformat": 4,
 "nbformat_minor": 5
}
